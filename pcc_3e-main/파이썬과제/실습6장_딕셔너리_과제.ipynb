{
 "cells": [
  {
   "cell_type": "code",
   "execution_count": 5,
   "metadata": {},
   "outputs": [
    {
     "name": "stdout",
     "output_type": "stream",
     "text": [
      "<class 'dict'>\n",
      "빈 딕셔너리\n",
      "abc\n",
      "busan\n"
     ]
    }
   ],
   "source": [
    "# 파이썬 딕셔너리\n",
    "person = {\"name\": \"John\", \"age\": 30}\n",
    "d = {}\n",
    "print(type(person))\n",
    "if d :\n",
    "  print(\"non-empty\")\n",
    "else :\n",
    "  print(\"빈 딕셔너리\")\n",
    "lst = ['abc','good','nice']\n",
    "print(lst[0]) # 0은 인덱스\n",
    "# print(person[0]) # 0은 인덱스로 사용하여 첫번쨰 \n",
    "person[\"city\"]=\"busan\"\n",
    "person['color']='yellow'\n",
    "print(person['city'])"
   ]
  },
  {
   "cell_type": "code",
   "execution_count": 7,
   "metadata": {},
   "outputs": [
    {
     "name": "stdout",
     "output_type": "stream",
     "text": [
      "{'id': 1, 'sname': 'hong', 'coding': 'java'}\n",
      "{'id': 1, 'sname': 'hong'}\n",
      "None\n",
      "hong\n"
     ]
    }
   ],
   "source": [
    "student={}\n",
    "student['id']=1\n",
    "student['sname']='hong'\n",
    "student['coding']='java'\n",
    "print(student)\n",
    "del student['coding']\n",
    "print(student)\n",
    "#print(student['name'])\n",
    "# print(student['sname'])\n",
    "print(student.get('name'))\n",
    "print(student.get('sname'))"
   ]
  },
  {
   "cell_type": "code",
   "execution_count": 11,
   "metadata": {},
   "outputs": [
    {
     "name": "stdout",
     "output_type": "stream",
     "text": [
      "key = id, value = 1\n",
      "key = sname, value = hong\n",
      "key = coding, value = java\n",
      "key = skills, value = java\n",
      "<class 'dict_keys'>\n",
      "key = id\n",
      "key = sname\n",
      "key = coding\n",
      "key = skills\n",
      "값 = 1\n",
      "값 = hong\n",
      "값 = java\n",
      "값 = java\n",
      "정렬::key = coding\n",
      "정렬::key = id\n",
      "정렬::key = skills\n",
      "정렬::key = sname\n",
      "{'id': 1, 'sname': 'hong', 'coding': 'java', 'skills': 'java', 'skill': 'java'}\n",
      "집합::value = 1\n",
      "집합::value = hong\n",
      "집합::value = java\n"
     ]
    }
   ],
   "source": [
    "student={}\n",
    "student['id']=1\n",
    "student['sname']='hong'\n",
    "student['coding']='java'\n",
    "student['skills']='java'\n",
    "\n",
    "for k,v in student.items():##key, value 쌍을 반환하는 함수\n",
    "    print(\"key = {}, value = {}\".format(k, v)) \n",
    "\n",
    "lst = student.keys()    \n",
    "print(type(lst))\n",
    "\n",
    "for k in student.keys():\n",
    "    print(\"key = {}\".format(k))\n",
    "    \n",
    "for k in student.values():\n",
    "    print(\"값 = {}\".format(k))\n",
    "    \n",
    "for k in sorted(student.keys()):\n",
    "    print(\"정렬::key = {}\".format(k))  \n",
    "    \n",
    "student['skill']='java'\n",
    "print(student)\n",
    "for v in set(student.values()):\n",
    "    print(\"집합::value = {}\".format(v))  "
   ]
  },
  {
   "cell_type": "markdown",
   "metadata": {},
   "source": [
    "딕셔너리들의 리스트 "
   ]
  },
  {
   "cell_type": "code",
   "execution_count": 12,
   "metadata": {},
   "outputs": [
    {
     "name": "stdout",
     "output_type": "stream",
     "text": [
      "학생 = {'id': 1, 'sname': 'hong', 'coding': 'java'}\n",
      "학생 = {'id': 2, 'sname': '김', 'coding': 'javascript'}\n",
      "학생 = {'id': 3, 'sname': 'hong', 'coding': 'java'}\n",
      "[{'id': 1, 'sname': 'hong', 'coding': 'java'}, {'id': 2, 'sname': '김', 'coding': 'javascript'}, {'id': 3, 'sname': 'hong', 'coding': 'java'}, {'id': 4, 'sname': 'lee', 'coding': 'python'}, {'id': 5, 'sname': 'lee', 'coding': 'python'}, {'id': 6, 'sname': 'lee', 'coding': 'python'}, {'id': 7, 'sname': 'lee', 'coding': 'python'}]\n"
     ]
    }
   ],
   "source": [
    "student0 = {'id':1, 'sname':'hong', 'coding':'java'}\n",
    "student1 = {'id':2, 'sname':'김', 'coding':'javascript'}\n",
    "student2 = {'id':3, 'sname':'hong', 'coding':'java'}\n",
    "students = [student0,student1,student2]\n",
    "for student in students:\n",
    "    print(f\"학생 = {student}\")\n",
    "    \n",
    "for id in range(4,8):\n",
    "    new_student = {'id':id, 'sname': 'lee', 'coding':'python'}\n",
    "    students.append(new_student)\n",
    "    \n",
    "print(students)\n",
    "\n",
    "for student in students[1:3:-1]:\n",
    "    if student['sname']=='hong':\n",
    "        student['coding'] = 'python'\n",
    "    print(\"학생 = {}\".format(student))"
   ]
  },
  {
   "cell_type": "markdown",
   "metadata": {},
   "source": [
    "리스트를 포함하는 딕셔너리들의 리스트 "
   ]
  },
  {
   "cell_type": "code",
   "execution_count": 8,
   "metadata": {},
   "outputs": [
    {
     "name": "stdout",
     "output_type": "stream",
     "text": [
      "학생 = {'id': 1, 'sname': 'hong', 'coding': ['java', 'c', 'python']}\n",
      "학생 = {'id': 2, 'sname': '김', 'coding': ['C++', 'c']}\n",
      "학생 = {'id': 3, 'sname': 'hong', 'coding': ['go', 'C++', 'javascript']}\n",
      "[{'id': 1, 'sname': 'hong', 'coding': ['java', 'c', 'python']}, {'id': 2, 'sname': '김', 'coding': ['C++', 'c']}, {'id': 3, 'sname': 'hong', 'coding': ['go', 'C++', 'javascript']}, {'id': 4, 'sname': 'lee', 'coding': ['java', 'javascriptc', 'typescript']}, {'id': 5, 'sname': 'lee', 'coding': ['java', 'javascriptc', 'typescript']}, {'id': 6, 'sname': 'lee', 'coding': ['java', 'javascriptc', 'typescript']}, {'id': 7, 'sname': 'lee', 'coding': ['java', 'javascriptc', 'typescript']}]\n",
      "코딩 언어 = java\n",
      "코딩 언어 = c\n",
      "코딩 언어 = python\n",
      "코딩 언어 = C++\n",
      "코딩 언어 = c\n",
      "코딩 언어 = go\n",
      "코딩 언어 = C++\n",
      "코딩 언어 = javascript\n",
      "코딩 언어 = java\n",
      "코딩 언어 = javascriptc\n",
      "코딩 언어 = typescript\n",
      "코딩 언어 = java\n",
      "코딩 언어 = javascriptc\n",
      "코딩 언어 = typescript\n",
      "코딩 언어 = java\n",
      "코딩 언어 = javascriptc\n",
      "코딩 언어 = typescript\n",
      "코딩 언어 = java\n",
      "코딩 언어 = javascriptc\n",
      "코딩 언어 = typescript\n"
     ]
    }
   ],
   "source": [
    "#교재 166\n",
    "student0 = {'id':1, 'sname':'hong', 'coding':['java','c','python']}\n",
    "student1 = {'id':2, 'sname':'김', 'coding':['C++','c']}\n",
    "student2 = {'id':3, 'sname':'hong', 'coding':['go','C++','javascript']}\n",
    "student3 = {'id':4, 'sname':'hong', 'coding':['go','C++','javascript']}\n",
    "student4 = {'id':5, 'sname':'hong', 'coding':['go','C++','javascript']}\n",
    "student5 = {'id':6, 'sname':'hong', 'coding':['go','C++','javascript']}\n",
    "\n",
    "students = [student0,student1,student2]\n",
    "# 리스트의 딕셔너리 출력: for 문사용 > 역순 출력 0,2,4만 출력\n",
    "\n",
    "    \n",
    "for id in range(7,10):\n",
    "    new_student = {'id':id, 'sname': 'lee', 'coding':['java','javascriptc','typescript']}\n",
    "    students.append(new_student)\n",
    "    \n",
    "print(students)\n",
    "# 리스트이 딕셔너리 객체에 대하여 items()사용하여 key, value을 구한다.\n",
    "##key가 coding이면 각 value을 출력한다\n",
    "\n",
    "\n"
   ]
  },
  {
   "cell_type": "markdown",
   "metadata": {},
   "source": [
    "Nested dictionary(중첩 딕셔너리)"
   ]
  },
  {
   "cell_type": "code",
   "execution_count": 16,
   "metadata": {},
   "outputs": [
    {
     "name": "stdout",
     "output_type": "stream",
     "text": [
      "user1의 정보: {'name': 'John', 'age': 30, 'city': 'New York'}\n",
      "users의 정보: {'user1': {'name': 'John', 'age': 30, 'city': 'New York'}, 'user2': {'name': 'Alice', 'age': 25, 'city': 'Los Angeles'}, 'user3': {'name': 'Bob', 'age': 35, 'city': 'Chicago'}}\n",
      "user2의 이름: Alice\n",
      "user2의 이름: Los Angeles\n"
     ]
    }
   ],
   "source": [
    "# 중첩 딕셔너리 예제: 여러 사용자의 정보\n",
    "users = {\n",
    "    \"user1\": {\n",
    "        \"name\": \"John\",\n",
    "        \"age\": 30,\n",
    "        \"city\": \"New York\"\n",
    "    },\n",
    "    \"user2\": {\n",
    "        \"name\": \"Alice\",\n",
    "        \"age\": 25,\n",
    "        \"city\": \"Los Angeles\"\n",
    "    },\n",
    "    \"user3\": {\n",
    "        \"name\": \"Bob\",\n",
    "        \"age\": 35,\n",
    "        \"city\": \"Chicago\"\n",
    "    }\n",
    "}\n",
    "\n",
    "# 특정 사용자 정보 접근\n",
    "print(\"user1의 정보:\", users[\"user1\"])\n",
    "print(\"user2의 이름:\", users[\"user2\"][\"name\"])\n",
    "print(\"users의 정보:\", users)\n",
    "print(\"user2의 이름:\", users[\"user2\"][\"city\"])\n",
    "\n",
    "# 모든 사용자의 key, value에 대하여 \"user2\"의 \"city\"를 찾는 코드를 작성한다\n"
   ]
  }
 ],
 "metadata": {
  "kernelspec": {
   "display_name": "Python 3",
   "language": "python",
   "name": "python3"
  },
  "language_info": {
   "codemirror_mode": {
    "name": "ipython",
    "version": 3
   },
   "file_extension": ".py",
   "mimetype": "text/x-python",
   "name": "python",
   "nbconvert_exporter": "python",
   "pygments_lexer": "ipython3",
   "version": "3.9.13"
  }
 },
 "nbformat": 4,
 "nbformat_minor": 2
}
