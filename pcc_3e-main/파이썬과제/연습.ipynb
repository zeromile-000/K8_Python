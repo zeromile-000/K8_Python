{
 "cells": [
  {
   "cell_type": "code",
   "execution_count": 19,
   "metadata": {},
   "outputs": [
    {
     "name": "stdout",
     "output_type": "stream",
     "text": [
      "None\n"
     ]
    }
   ],
   "source": [
    "class Number:\n",
    "  def __init__(self, *args):\n",
    "    self.namx = args\n",
    "\n",
    "  def ns(self): \n",
    "    result = []\n",
    "    for i in self.namx:\n",
    "      if i%2==0:\n",
    "        result.append(\"Even\")\n",
    "      else :\n",
    "        result.append(\"Odd\")\n",
    "    return result\n",
    "\n",
    "n = Number(5, 2, -3, -4, 0)\n",
    "print(n.ns())"
   ]
  }
 ],
 "metadata": {
  "kernelspec": {
   "display_name": "Python 3",
   "language": "python",
   "name": "python3"
  },
  "language_info": {
   "codemirror_mode": {
    "name": "ipython",
    "version": 3
   },
   "file_extension": ".py",
   "mimetype": "text/x-python",
   "name": "python",
   "nbconvert_exporter": "python",
   "pygments_lexer": "ipython3",
   "version": "3.9.13"
  }
 },
 "nbformat": 4,
 "nbformat_minor": 2
}
