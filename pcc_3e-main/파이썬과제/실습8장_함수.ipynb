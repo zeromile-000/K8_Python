{
 "cells": [
  {
   "cell_type": "markdown",
   "metadata": {},
   "source": [
    "8장 함수 "
   ]
  },
  {
   "cell_type": "code",
   "execution_count": 7,
   "metadata": {},
   "outputs": [
    {
     "name": "stdout",
     "output_type": "stream",
     "text": [
      "hello\n"
     ]
    }
   ],
   "source": [
    "def greet_user(a=0,b=0,c=0,d=0, num=0, symbol= \"\"): ##formal parameter : 정수로 전달하면 정수, 스트링으로 전달하면 스트링 타입\n",
    "  \"\"\"단순한 인사\"\"\" #docastrinh\n",
    "  print('hello')\n",
    "# greet_user()\n",
    "# help(greet_user) # //help() 메서드는 힌트\n",
    "\n",
    "greet_user(symbol='good', num=500) ##actual argument \n",
    "\n",
    "# lst = [1,2,3]\n",
    "# for member in lst: ##lst는 리스트이고 iterable\n",
    "#   print(member)\n",
    "\n",
    "# tup = 1, 2, 3\n",
    "# help(tup)"
   ]
  },
  {
   "cell_type": "code",
   "execution_count": 2,
   "metadata": {},
   "outputs": [
    {
     "name": "stdout",
     "output_type": "stream",
     "text": [
      "[0, 0, 0, 0, 0, 0, 0, 0, 0, 0]\n",
      "[0, 1, 3, 2, 6, 7, 5, 4, 12, 13]\n",
      "[0, 1, 2, 3, 5, 4, 7, 6, 10, 11]\n",
      "[0, 1, 2, 3, 4, 5, 6, 7, 9, 8]\n",
      "[0, 1, 2, 3, 4, 5, 6, 7, 8, 9]\n",
      "192\n"
     ]
    }
   ],
   "source": [
    "### p34, 파이썬 데이터 사이언스 핸드북``\n",
    "def sum_of_lists(N):\n",
    "    total = 0\n",
    "    for i in range(5):\n",
    "        L = [j ^ (j>>i) for j in range(N)] # ^는 XOR  연산자, >>는 bit shift 연산자 우측으로 \n",
    "        print(L)\n",
    "        total += sum(L)\n",
    "    return total\n",
    "\n",
    "print (sum_of_lists(10))"
   ]
  },
  {
   "cell_type": "code",
   "execution_count": 3,
   "metadata": {},
   "outputs": [
    {
     "name": "stdout",
     "output_type": "stream",
     "text": [
      "values = [3 5 7 6 4]\n",
      "[0.33333333 0.2        0.14285714 0.16666667 0.25      ]\n"
     ]
    }
   ],
   "source": [
    "#### p57, 파이썬 데이터 사이언스 핸드북\n",
    "import numpy as np\n",
    "def compute_reciprocals(values):\n",
    "    output = np.empty(len(values)) # numpy 배열을 생성하며, 길이는 values의 길이와 동일. empty는 배열을 초기화하지 않고 빈 메모리만 할당\n",
    "    for i in range(len(values)):\n",
    "        output[i] = 1.0/values[i]\n",
    "    return output\n",
    "\n",
    "values = np.random.randint(1,10,size=5)\n",
    "print(f\"values = {values}\")\n",
    "print(compute_reciprocals(values))\n"
   ]
  },
  {
   "cell_type": "code",
   "execution_count": 5,
   "metadata": {},
   "outputs": [
    {
     "name": "stdout",
     "output_type": "stream",
     "text": [
      "data = {'A': ['A0', 'A1', 'A2'], 'B': ['B0', 'B1', 'B2'], 'C': ['C0', 'C1', 'C2']}\n",
      "    A   B   C\n",
      "0  A0  B0  C0\n",
      "1  A1  B1  C1\n",
      "2  A2  B2  C2\n"
     ]
    }
   ],
   "source": [
    "#### p161, 파이썬 데이터 사이언스 핸드북\n",
    "import pandas as pd\n",
    "def make_df(cols, ind):\n",
    "    \"\"\"빠르게 DataFrame 생성\"\"\"\n",
    "    data ={c:[str(c) + str(i) for i in ind] for c in cols}\n",
    "    print(f\"data = {data}\")\n",
    "    return pd.DataFrame(data,ind) #딕셔너리를 사용하여 DataFrame을 생성, 딕셔너리, 각 키는 열 이름, 값은 해당 열의 값들, ind: DataFrame의 인덱스를 설정\n",
    "\n",
    "print(make_df('ABC',range(3)))"
   ]
  }
 ],
 "metadata": {
  "kernelspec": {
   "display_name": "Python 3",
   "language": "python",
   "name": "python3"
  },
  "language_info": {
   "codemirror_mode": {
    "name": "ipython",
    "version": 3
   },
   "file_extension": ".py",
   "mimetype": "text/x-python",
   "name": "python",
   "nbconvert_exporter": "python",
   "pygments_lexer": "ipython3",
   "version": "3.9.13"
  }
 },
 "nbformat": 4,
 "nbformat_minor": 2
}
