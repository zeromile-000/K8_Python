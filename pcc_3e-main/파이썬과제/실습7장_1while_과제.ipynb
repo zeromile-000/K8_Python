{
 "cells": [
  {
   "cell_type": "markdown",
   "metadata": {},
   "source": [
    "7장 while 문"
   ]
  },
  {
   "cell_type": "code",
   "execution_count": 3,
   "metadata": {},
   "outputs": [
    {
     "ename": "ValueError",
     "evalue": "invalid literal for int() with base 10: 's'",
     "output_type": "error",
     "traceback": [
      "\u001b[1;31m---------------------------------------------------------------------------\u001b[0m",
      "\u001b[1;31mValueError\u001b[0m                                Traceback (most recent call last)",
      "Cell \u001b[1;32mIn[3], line 2\u001b[0m\n\u001b[0;32m      1\u001b[0m n \u001b[38;5;241m=\u001b[39m \u001b[38;5;28minput\u001b[39m(\u001b[38;5;124m\"\u001b[39m\u001b[38;5;124m입력데이터:\u001b[39m\u001b[38;5;124m\"\u001b[39m) \u001b[38;5;66;03m# powershell terminal에서 $jupyter notebook 실행으로 해결 \u001b[39;00m\n\u001b[1;32m----> 2\u001b[0m num \u001b[38;5;241m=\u001b[39m \u001b[38;5;28;43mint\u001b[39;49m\u001b[43m(\u001b[49m\u001b[43mn\u001b[49m\u001b[43m)\u001b[49m\n\u001b[0;32m      3\u001b[0m \u001b[38;5;28;01mif\u001b[39;00m num \u001b[38;5;241m>\u001b[39m \u001b[38;5;241m0\u001b[39m :\n\u001b[0;32m      4\u001b[0m     \u001b[38;5;28mprint\u001b[39m(\u001b[38;5;124mf\u001b[39m\u001b[38;5;124m\"\u001b[39m\u001b[38;5;124mnum = \u001b[39m\u001b[38;5;132;01m{\u001b[39;00mnum\u001b[38;5;132;01m}\u001b[39;00m\u001b[38;5;124m\"\u001b[39m)\n",
      "\u001b[1;31mValueError\u001b[0m: invalid literal for int() with base 10: 's'"
     ]
    }
   ],
   "source": [
    "n = input(\"입력데이터:\") # powershell terminal에서 $jupyter notebook 실행으로 해결 \n",
    "print(type(n)) # n은 Str 타입\n",
    "num = int(n)  # Str 타입을 int 형 타입으로 형 변환\n",
    "if num > 0 :\n",
    "    print(f\"num = {num}\") \n",
    "    while (num > 0):\n",
    "        if num % 2 == 1:\n",
    "            print(f\"num = {num}\")\n",
    "        #num--\n",
    "        num -= 1"
   ]
  },
  {
   "cell_type": "code",
   "execution_count": 27,
   "metadata": {},
   "outputs": [
    {
     "name": "stdout",
     "output_type": "stream",
     "text": [
      "matrix1 = [[0], [1], [2], [3], [4]]\n",
      "matrix2 = [[1], [1], [1], [1], [1]]\n"
     ]
    }
   ],
   "source": [
    "# matrix1 = [[0 for _ in range(5)]for _ in range(5)]\n",
    "# matrix1 = [[i for i in range(5)]for _ in range(5)]\n",
    "matrix1 = [[i] for i in range(5)]#for _ in range(5)]\n",
    "matrix2 = [[1] for _ in range(5)]\n",
    "print(f\"matrix1 = {matrix1}\")\n",
    "print(f\"matrix2 = {matrix2}\")\n",
    "\n"
   ]
  },
  {
   "cell_type": "code",
   "execution_count": 16,
   "metadata": {},
   "outputs": [
    {
     "name": "stdout",
     "output_type": "stream",
     "text": [
      " [[1, 2, 3]]\n"
     ]
    }
   ],
   "source": [
    "m = [1, 2, 3]\n",
    "m2 = [[[1,2,3]]]\n",
    "for m1 in m2 :\n",
    "  print(f\" {m1}\")"
   ]
  },
  {
   "cell_type": "code",
   "execution_count": 14,
   "metadata": {},
   "outputs": [
    {
     "name": "stdout",
     "output_type": "stream",
     "text": [
      "[0.012352054261966616]\n",
      "[-0.8194479185933203]\n",
      "[0.5320045289586111]\n",
      "[-0.1256360391438054]\n",
      "[-0.4883856009494649]\n"
     ]
    }
   ],
   "source": [
    "import random\n",
    "rows_matrix1 = 1  # matrix1은 1x5\n",
    "cols_matrix1 = 5\n",
    "matrix1 = [[random.uniform(-1,1) for _ in range(rows_matrix1)] for _ in range(cols_matrix1)]\n",
    "\n",
    "for m1 in matrix1:\n",
    "  print(m1)\n",
    "\n"
   ]
  },
  {
   "cell_type": "code",
   "execution_count": 11,
   "metadata": {},
   "outputs": [
    {
     "name": "stdout",
     "output_type": "stream",
     "text": [
      "Matrix 1 (1x5):\n",
      "0.17121022493851545\n",
      "\n",
      "Matrix 2 (5x1):\n",
      "\n",
      "Matrix Product (1x1):\n"
     ]
    }
   ],
   "source": [
    "import random\n",
    "\n",
    "# 행렬의 크기\n",
    "rows_matrix1 = 1  # matrix1은 1x5\n",
    "cols_matrix1 = 5\n",
    "\n",
    "\n",
    "rows_matrix2 = 5  # matrix2는 5x1\n",
    "cols_matrix2 = 1\n",
    "\n",
    "# 난수를 사용하여 두 개의 2D 리스트(행렬) 생성: -1 ~ +1 난수 생성 \n",
    "matrix1 = [random.uniform(-1,1)]\n",
    "matrix2 = [[]for in]\n",
    "\n",
    "# 결과를 저장할 빈 2D 리스트 (행렬 곱셈 결과 저장용)\n",
    "# matrix1이 (1x5), matrix2가 (5x1)일 때 결과는 (1x1) 행렬\n",
    "result = []\n",
    "\n",
    "# while 루프를 사용하여 행렬 곱셈 수행 (1x5) * (5x1) -> (1x1)\n",
    "i = 0\n",
    "while i < rows_matrix1:\n",
    "    j = 0\n",
    "    while j < cols_matrix2:\n",
    "        \n",
    "        j += 1\n",
    "    i += 1\n",
    "\n",
    "# 결과 출력\n",
    "print(\"Matrix 1 (1x5):\")\n",
    "for row in matrix1:\n",
    "    print(row)\n",
    "\n",
    "print(\"\\nMatrix 2 (5x1):\")\n",
    "for row in matrix2:\n",
    "    print(row)\n",
    "\n",
    "print(\"\\nMatrix Product (1x1):\")\n",
    "for row in result:\n",
    "    print(row)"
   ]
  },
  {
   "cell_type": "markdown",
   "metadata": {},
   "source": [
    "Matrix 1 (1x5):\n",
    "[0.4998302696512782, -0.9497493912509134, 0.023998768817964367, 0.6141563838365167, 0.40362198024704377]\n",
    "\n",
    "Matrix 2 (5x1):\n",
    "[-0.8439597510122425]\n",
    "[0.4704744195677144]\n",
    "[-0.016112882741132317]\n",
    "[-0.331767171286554]\n",
    "[0.5729847603639666]\n",
    "\n",
    "Matrix Product (1x1):\n",
    "[-0.8415437954182721]"
   ]
  },
  {
   "cell_type": "code",
   "execution_count": 6,
   "metadata": {},
   "outputs": [
    {
     "name": "stdout",
     "output_type": "stream",
     "text": [
      "{'sid': 2, 'sname': 'Lee', 'age': 21, 'city': 'Busan'}\n",
      "{'sid': 4, 'sname': 'Choi', 'age': 20, 'city': 'Busan'}\n"
     ]
    }
   ],
   "source": [
    "# 5개의 학생 데이터를 딕셔너리로 생성\n",
    "student1 = {'sid': 1, 'sname': 'Kim', 'age': 20, 'city': 'Seoul'}\n",
    "student2 = {'sid': 2, 'sname': 'Lee', 'age': 21, 'city': 'Busan'}\n",
    "student3 = {'sid': 3, 'sname': 'Park', 'age': 22, 'city': 'Incheon'}\n",
    "student4 = {'sid': 4, 'sname': 'Choi', 'age': 20, 'city': 'Busan'}\n",
    "student5 = {'sid': 5, 'sname': 'Jung', 'age': 23, 'city': 'Daegu'}\n",
    "\n",
    "# 학생 딕셔너리를 리스트에 저장\n",
    "students = [student1, student2, student3, student4, student5]\n",
    "\n",
    "# while 문으로 부산에 사는 학생만 출력\n",
    "i = 0\n"
   ]
  }
 ],
 "metadata": {
  "kernelspec": {
   "display_name": "Python 3",
   "language": "python",
   "name": "python3"
  },
  "language_info": {
   "codemirror_mode": {
    "name": "ipython",
    "version": 3
   },
   "file_extension": ".py",
   "mimetype": "text/x-python",
   "name": "python",
   "nbconvert_exporter": "python",
   "pygments_lexer": "ipython3",
   "version": "3.9.13"
  }
 },
 "nbformat": 4,
 "nbformat_minor": 2
}
