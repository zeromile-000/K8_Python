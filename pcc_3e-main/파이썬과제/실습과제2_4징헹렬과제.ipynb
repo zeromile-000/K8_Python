{
 "cells": [
  {
   "cell_type": "code",
   "execution_count": 6,
   "metadata": {},
   "outputs": [
    {
     "name": "stdout",
     "output_type": "stream",
     "text": [
      "['genesis', 'sonata']\n",
      "차는 k9\n",
      "k9\n",
      "차는 genesis\n",
      "genesis\n",
      "차는 sonata\n",
      "sonata\n",
      "차는 canival\n",
      "canival\n"
     ]
    }
   ],
   "source": [
    "# list = [ 'k9','genesis','sonata','canival']\n",
    "# print(list[1:3])\n",
    "# for car in list:  #loop block\n",
    "#   print(f\"차는 {car}\")\n",
    "#   print(car)"
   ]
  },
  {
   "cell_type": "code",
   "execution_count": 1,
   "metadata": {},
   "outputs": [
    {
     "name": "stdout",
     "output_type": "stream",
     "text": [
      "1\n",
      "2\n",
      "3\n",
      "4\n",
      "<class 'range'>\n",
      "[1, 2, 3, 4, 5]\n"
     ]
    }
   ],
   "source": [
    "for value in range(1, 5):\n",
    "  print(value)\n",
    "rng = range(1,4)\n",
    "print(type(range(5)))\n",
    "\n",
    "numbers = list(range(1,6))\n",
    "print(numbers)"
   ]
  },
  {
   "cell_type": "code",
   "execution_count": 2,
   "metadata": {},
   "outputs": [
    {
     "name": "stdout",
     "output_type": "stream",
     "text": [
      "[2, 4, 6, 8, 10]\n"
     ]
    }
   ],
   "source": [
    "num_list = list(range(2,11,2))\n",
    "print(num_list)"
   ]
  },
  {
   "cell_type": "code",
   "execution_count": 10,
   "metadata": {},
   "outputs": [
    {
     "name": "stdout",
     "output_type": "stream",
     "text": [
      "[1, 9, 25, 49, 81]\n",
      "[9, 25]\n",
      "[]\n",
      "[9, 25]\n",
      "[81, 25, 1]\n"
     ]
    }
   ],
   "source": [
    "squares = [value**2 for value in range(1,11,2)]\n",
    "print(squares)\n",
    "print(squares[-4:-2])# step : 증가치 , -1은 반대방향으로\n",
    "print(squares[-4:-2:-1])# step : 증가치 , -1은 반대방향으로\n",
    "print(squares[-4:-2])# step : 증가치 , -1은 반대방향으로\n",
    "print(squares[::-2])# step : 증가치 , -1은 반대방향으로"
   ]
  },
  {
   "cell_type": "code",
   "execution_count": 11,
   "metadata": {},
   "outputs": [
    {
     "name": "stdout",
     "output_type": "stream",
     "text": [
      "1\n",
      "9\n",
      "25\n"
     ]
    }
   ],
   "source": [
    "for v in squares[:3]:\n",
    "  print(v)"
   ]
  },
  {
   "cell_type": "code",
   "execution_count": 20,
   "metadata": {},
   "outputs": [
    {
     "name": "stdout",
     "output_type": "stream",
     "text": [
      "<class 'tuple'>\n",
      "\n",
      "튜플 t: 4\n",
      "['bad', 20, 30]\n",
      "i=0, value = bad\n",
      "i=1, value = 20\n",
      "i=2, value = 30\n"
     ]
    }
   ],
   "source": [
    "t = (1, 2, 3)\n",
    "# t[0] = 10  # 에러: 튜플은 불변(immutable)하기 때문에 요소를 변경할 수 없음\n",
    "print(type(t))\n",
    "\n",
    "t = 4, 5, 6, 7  # 튜플 t가 새로운 값으로 재할당\n",
    "print(\"\\n튜플 t:\", t[0])  # (4, 5, 6, 7)\n",
    "\n",
    "lst = [10, 20, 30]\n",
    "lst[0] = 'bad'  # 리스트는 변경 가능하므로 요소 변경 가능\n",
    "print(lst)\n",
    "\n",
    "# lst = 20  # 리스트에 정수 할당 불가\n",
    "\n",
    "for i, value in enumerate(lst):\n",
    "    print(f\"i={i}, value = {value}\")"
   ]
  },
  {
   "cell_type": "code",
   "execution_count": 26,
   "metadata": {},
   "outputs": [
    {
     "name": "stdout",
     "output_type": "stream",
     "text": [
      "\n",
      "리스트 슬라이싱(정상): [[0, 1, 2], [3, 4, 5], [6, 7, 8]]\n",
      "\n",
      "행을 역순으로 출력: [[6, 7, 8], [3, 4, 5], [0, 1, 2]]\n",
      "\n",
      "열을 역순으로 출력: [2, 1, 0]\n",
      "\n",
      "열을 역순으로 출력: [5, 4, 3]\n",
      "\n",
      "열을 역순으로 출력: [8, 7, 6]\n"
     ]
    }
   ],
   "source": [
    "# 슬라이싱 예제 - 리스트는 [::] 형식만 지원\n",
    "matrix = [[0, 1, 2], [3, 4, 5], [6, 7, 8]]\n",
    "\n",
    "# 리스트 슬라이싱 (정상)\n",
    "print(\"\\n리스트 슬라이싱(정상):\",matrix)\n",
    "\n",
    "#1 행을 역순으로 출력\n",
    "print(\"\\n행을 역순으로 출력:\",matrix[::-1])\n",
    "\n",
    "#2 열을 역순으로 출력\n",
    "for i in matrix :\n",
    "  print(\"\\n열을 역순으로 출력:\",i[::-1])\n",
    "\n",
    "print(matrix[:1, :1])#을 구현하는 리스트 슬라이싱"
   ]
  },
  {
   "cell_type": "code",
   "execution_count": 37,
   "metadata": {},
   "outputs": [
    {
     "name": "stdout",
     "output_type": "stream",
     "text": [
      "원본 행렬:\n",
      "[[1, 4, 7, 10, 13], [2, 5, 8, 11, 14], [3, 6, 9, 12, 15]]\n",
      "\n",
      "전치 행렬:\n",
      "[1, 2, 3]\n",
      "[4, 5, 6]\n",
      "[7, 8, 9]\n",
      "[10, 11, 12]\n",
      "[13, 14, 15]\n"
     ]
    }
   ],
   "source": [
    "# 3x5 행렬 생성\n",
    "matrix = [[col*3+row+1 for col in range(5)] for row in range(3)]\n",
    "print(f\"원본 행렬:\\n{matrix}\")\n",
    "\n",
    "# 전치 행렬 (행과 열을 뒤바꿈)\n",
    "transposeMatrix = [[row[col] for row in matrix] for col in range(len(matrix[0]))]\n",
    "print(f\"\\n전치 행렬:\")\n",
    "\n",
    "for row in transposeMatrix:\n",
    "    print(row)"
   ]
  },
  {
   "cell_type": "code",
   "execution_count": null,
   "metadata": {},
   "outputs": [],
   "source": [
    "# 슬라이싱 예제 - 리스트는 [::] 형식만 지원\n",
    "matrix = [[0, 1, 2], [3, 4, 5], [6, 7, 8]]\n",
    "\n",
    "# 리스트 슬라이싱 (정상)\n",
    "print(\"\\n리스트 슬라이싱:\")\n",
    "\n",
    "#1 행을 역순으로 출력\n",
    "\n",
    "#2 열을 역순으로 출력\n",
    "\n",
    "print(matrix[:1, :1])#을 구현하는 리스트 슬라이싱\n",
    "#3 첫 번째 행에서 첫 번째 열만 슬라이싱 (== matrix[:1, :1])\n",
    "\n",
    "# 잘못된 슬라이싱 시도 - 튜플로 인식되는 경우\n",
    "try:\n",
    "    print(matrix[::-1,::-1])  # 잘못된 사용, TypeError 발생\n",
    "except TypeError as e:\n",
    "    print(\"\\n에러 발생:\", e)\n",
    "\n",
    "lst1 = [a,b] = [1,2]\n",
    "tpl1 = (c,d) = (3,4)\n",
    "lst1[0] = 5\n",
    "#tpl1[0] = 7\n",
    "print(lst1)\n",
    "print(type(lst1[0]))\n",
    "print(type(tpl1[0]))\n",
    "num = range(10)\n",
    "type(num)\n",
    "num\n",
    "\n",
    "import array ## 파이썬의 배열 \n",
    "my_array = array.array('i', [1, 2, 3])  # 'i'는 정수(int)를 의미\n",
    "# 1차원 배열을 리스트로 묶어서 2차원 배열처럼 사용\n",
    "row1 = array.array('i', [1, 2, 3])\n",
    "row2 = array.array('i', [4, 5, 6])\n",
    "row3 = array.array('i', [7, 8, 9])\n",
    "\n",
    "matrix = [row1, row2, row3]  # 리스트로 2차원 배열처럼 표현\n",
    "\n",
    "# 2차원 배열처럼 접근\n",
    "print(matrix[0])     # 첫 번째 행 출력: [1, 2, 3]\n",
    "print(matrix[1][1])  # 두 번째 행의 두 번째 값 출력: 5\n",
    "#matrix[:1,:2] ##  리스트 인덱스는 튜플 사용 안됨\n",
    "### tuple\n",
    "tup = 10,20,30,40\n",
    "#tup[0] = 11\n",
    "print(tup[0])\n",
    "\n",
    "a,b,c = 10,20,30\n",
    "a,b = 11,22\n",
    "a,b = b, a\n",
    "print(f\"a= {a}, b = {b}\")\n",
    "def test():\n",
    "    return 10,20,30\n",
    "\n",
    "x,y,z = test()\n",
    "\n",
    "l = [1, 2, 3]\n",
    "for i, v in enumerate(l):\n",
    "    print(f\"i: {i}, v: {v}\")\n",
    "\n",
    "    # 3x5 행렬 생성\n",
    "matrix = [\n",
    "    [1, 2, 3, 4, 5],\n",
    "    [6, 7, 8, 9, 10],\n",
    "    [11, 12, 13, 14, 15]\n",
    "]\n",
    "\n",
    "print(\"원본 행렬:\")\n",
    "\n",
    "    \n",
    "# 전치 행렬 (행과 열을 뒤바꿈)\n",
    "\n",
    "\n",
    "print(\"\\n전치 행렬:\")\n"
   ]
  },
  {
   "cell_type": "code",
   "execution_count": 13,
   "metadata": {},
   "outputs": [
    {
     "name": "stdout",
     "output_type": "stream",
     "text": [
      "원본 리스트 l: [1, 2, 3, 4]\n",
      "참조한 리스트 la: [1, 2, 3, 4]\n",
      "복사된 리스트 lb: [1, 2, 3]\n"
     ]
    },
    {
     "ename": "TypeError",
     "evalue": "'tuple' object does not support item assignment",
     "output_type": "error",
     "traceback": [
      "\u001b[1;31m---------------------------------------------------------------------------\u001b[0m",
      "\u001b[1;31mTypeError\u001b[0m                                 Traceback (most recent call last)",
      "Cell \u001b[1;32mIn[13], line 15\u001b[0m\n\u001b[0;32m     13\u001b[0m \u001b[38;5;66;03m# 튜플 (immutable)\u001b[39;00m\n\u001b[0;32m     14\u001b[0m t \u001b[38;5;241m=\u001b[39m (\u001b[38;5;241m1\u001b[39m, \u001b[38;5;241m2\u001b[39m, \u001b[38;5;241m3\u001b[39m)\n\u001b[1;32m---> 15\u001b[0m \u001b[43mt\u001b[49m\u001b[43m[\u001b[49m\u001b[38;5;241;43m0\u001b[39;49m\u001b[43m]\u001b[49m \u001b[38;5;241m=\u001b[39m \u001b[38;5;241m10\u001b[39m  \u001b[38;5;66;03m# 에러: 튜플은 불변(immutable)하기 때문에 요소를 변경할 수 없음\u001b[39;00m\n\u001b[0;32m     17\u001b[0m \u001b[38;5;28mprint\u001b[39m(\u001b[38;5;124m\"\u001b[39m\u001b[38;5;130;01m\\n\u001b[39;00m\u001b[38;5;124m튜플 t:\u001b[39m\u001b[38;5;124m\"\u001b[39m, t[\u001b[38;5;241m0\u001b[39m])  \u001b[38;5;66;03m# (1, 2, 3)\u001b[39;00m\n\u001b[0;32m     19\u001b[0m \u001b[38;5;66;03m# 슬라이싱 예제 - 리스트는 [::] 형식만 지원\u001b[39;00m\n",
      "\u001b[1;31mTypeError\u001b[0m: 'tuple' object does not support item assignment"
     ]
    }
   ],
   "source": [
    "# 리스트 복사하기 (얕은 복사) - 함수에 매개변수로 전달 : 리스트를 전달\n",
    "l = [1, 2, 3]\n",
    "la = l  # la는 l의 참조, 같은 메모리 주소를 가리킴\n",
    "lb = l[:]  # lb는 l의 복사본, 서로 다른 메모리 주소\n",
    "\n",
    "# 리스트에 값 추가하기\n",
    "l.append(4)\n",
    "\n",
    "print(\"원본 리스트 l:\", l)       # [1, 2, 3, 4]\n",
    "print(\"참조한 리스트 la:\", la)   # [1, 2, 3, 4] (la는 l과 동일한 참조)\n",
    "print(\"복사된 리스트 lb:\", lb)   # [1, 2, 3] (lb는 독립적인 리스트)\n",
    "\n",
    "# 튜플 (immutable)\n",
    "t = (1, 2, 3)\n",
    "t[0] = 10  # 에러: 튜플은 불변(immutable)하기 때문에 요소를 변경할 수 없음\n",
    "\n",
    "print(\"\\n튜플 t:\", t)  # (1, 2, 3)\n",
    "\n",
    "# 슬라이싱 예제 - 리스트는 [::] 형식만 지원\n",
    "matrix = [[0, 1, 2], [3, 4, 5], [6, 7, 8]]\n",
    "\n",
    "# 리스트 슬라이싱 (정상)\n",
    "print(\"\\n리스트 슬라이싱:\")\n",
    "# 행을 역순으로 출력\n",
    "# 열을 역순으로 출력\n",
    "\n",
    "#print(matrix[:1, :1])을 구현하는 리스트 슬라이싱\n",
    "# 첫 번째 행에서 첫 번째 열만 슬라이싱 (== matrix[:1, :1])\n",
    "\n",
    "# 잘못된 슬라이싱 시도 - 튜플로 인식되는 경우\n",
    "try:\n",
    "    print(matrix[::-1,::-1])  # 잘못된 사용, TypeError 발생\n",
    "except TypeError as e:\n",
    "    print(\"\\n에러 발생:\", e)\n",
    "\n",
    "lst1 = [a,b] = [1,2]\n",
    "tpl1 = (c,d) = (3,4)\n",
    "lst1[0] = 5\n",
    "#tpl1[0] = 7\n",
    "print(lst1)\n",
    "print(type(lst1[0]))\n",
    "print(type(tpl1[0]))\n",
    "num = range(10)\n",
    "type(num)\n",
    "num\n",
    "\n",
    "import array ## 파이썬의 배열 \n",
    "my_array = array.array('i', [1, 2, 3])  # 'i'는 정수(int)를 의미\n",
    "# 1차원 배열을 리스트로 묶어서 2차원 배열처럼 사용\n",
    "row1 = array.array('i', [1, 2, 3])\n",
    "row2 = array.array('i', [4, 5, 6])\n",
    "row3 = array.array('i', [7, 8, 9])\n",
    "\n",
    "matrix = [row1, row2, row3]  # 리스트로 2차원 배열처럼 표현\n",
    "\n",
    "# 2차원 배열처럼 접근\n",
    "print(matrix[0])     # 첫 번째 행 출력: [1, 2, 3]\n",
    "print(matrix[1][1])  # 두 번째 행의 두 번째 값 출력: 5\n",
    "#matrix[:1,:2] ##  리스트 인덱스는 튜플 사용 안됨\n",
    "### tuple\n",
    "tup = 10,20,30,40\n",
    "#tup[0] = 11\n",
    "print(tup[0])\n",
    "\n",
    "a,b,c = 10,20,30\n",
    "a,b = 11,22\n",
    "a,b = b, a\n",
    "print(f\"a= {a}, b = {b}\")\n",
    "def test():\n",
    "    return 10,20,30\n",
    "\n",
    "x,y,z = test()\n",
    "\n",
    "l = [1, 2, 3]\n",
    "for i, v in enumerate(l):\n",
    "    print(f\"i: {i}, v: {v}\")\n",
    "\n",
    "    # 3x5 행렬 생성\n",
    "matrix = [\n",
    "    [1, 2, 3, 4, 5],\n",
    "    [6, 7, 8, 9, 10],\n",
    "    [11, 12, 13, 14, 15]\n",
    "]\n",
    "\n",
    "print(\"원본 행렬:\")\n",
    "for i in matrix:\n",
    "    print(i)\n",
    "\n",
    "    \n",
    "# 전치 행렬 (행과 열을 뒤바꿈)\n",
    "\n",
    "\n",
    "print(\"\\n전치 행렬:\")\n"
   ]
  },
  {
   "cell_type": "code",
   "execution_count": 36,
   "metadata": {},
   "outputs": [
    {
     "name": "stdout",
     "output_type": "stream",
     "text": [
      "[9, 8, 7, 6, 5, 4, 3, 2, 1, 0]\n",
      "[0, 1, 2, 3, 4, 5, 6, 7, 8, 9]\n",
      "[0, 1, 2, 3, 4, 5, 6, 7, 8, 9]\n",
      "[11, 1, 2, 3, 4, 5, 6, 7, 8, 9]\n"
     ]
    }
   ],
   "source": [
    "numbers = [0, 1, 2, 3, 4, 5, 6, 7, 8, 9]\n",
    "\n",
    "# 리스트 슬라이싱을 이용하여 리스트를 뒤집기\n",
    "reversed_list = numbers[::-1]\n",
    "\n",
    "# reversed_list[0] = 99  # 이 부분은 원본 리스트를 변경하지 않음\n",
    "\n",
    "print(reversed_list)  # 출력: [9, 8, 7, 6, 5, 4, 3, 2, 1, 0]\n",
    "print(numbers)      # 출력: [0, 1, 2, 3, 4, 5, 6, 7, 8, 9]\n",
    "\n",
    "# numbers2를 복사하여 새로운 리스트를 만들기\n",
    "numbers2 = numbers.copy()\n",
    "numbers2[0] = 11\n",
    "\n",
    "print(numbers)  # 출력: [0, 1, 2, 3, 4, 5, 6, 7, 8, 9]\n",
    "print(numbers2)  # 출력: [11, 1, 2, 3, 4, 5, 6, 7, 8, 9]"
   ]
  },
  {
   "cell_type": "code",
   "execution_count": 27,
   "metadata": {},
   "outputs": [
    {
     "name": "stdout",
     "output_type": "stream",
     "text": [
      "[[1, 2, 3, 4, 5, 6, 7, 8], [9, 10, 11, 12, 13, 14, 15, 16], [17, 18, 19, 20, 21, 22, 23, 24], [25, 26, 27, 28, 29, 30, 31, 32], [33, 34, 35, 36, 37, 38, 39, 40]]\n"
     ]
    }
   ],
   "source": [
    "array = [[] for i in range(5)]  \n",
    "for i in range(5):  \n",
    "    for j in range(1, 9):  \n",
    "        array[i].append(j+8*i)  \n",
    "\n",
    "print(array)"
   ]
  },
  {
   "cell_type": "code",
   "execution_count": 35,
   "metadata": {},
   "outputs": [
    {
     "name": "stdout",
     "output_type": "stream",
     "text": [
      "원본 행렬:\n",
      "[57, 19, 50, 23, 29, 55, 43]\n",
      "[73, 92, 82, 13, 33, 66, 86]\n",
      "[33, 68, 84, 58, 69, 67, 50]\n",
      "[32, 48, 39, 48, 36, 36, 47]\n",
      "[21, 91, 94, 35, 12, 50, 72]\n",
      "\n",
      "결과 행렬 (최대 값부터 3번째 큰 값까지):\n",
      "[57, 55, 50]\n",
      "[92, 86, 82]\n",
      "[84, 69, 68]\n",
      "[48, 48, 47]\n",
      "[94, 91, 72]\n"
     ]
    }
   ],
   "source": [
    "import random\n",
    "\n",
    "# 행렬의 크기 정의\n",
    "rows, cols = 5, 7\n",
    "\n",
    "# 2차원 행렬을 난수로 초기화\n",
    "matrix = [[random.randint(1, 100) for _ in range(cols)] for _ in range(rows)]\n",
    "\n",
    "# 행렬 출력\n",
    "print(\"원본 행렬:\")\n",
    "for row in matrix:\n",
    "    print(row)\n",
    "\n",
    "# 각 행에서 최대 값부터 3번째 큰 값까지 순서대로 행렬 만들기\n",
    "result_matrix = []\n",
    "\n",
    "for row in matrix:\n",
    "    # 행을 정렬하여 최대 값부터 작은 값으로 정렬\n",
    "    sorted_row = sorted(row, reverse=True)\n",
    "\n",
    "    # 최대 값부터 3번째 큰 값까지 가져오기 (최소 3개의 요소가 있는 경우)\n",
    "    if len(sorted_row) >= 3:\n",
    "        result_row = sorted_row[:3]\n",
    "    else:\n",
    "        result_row = sorted_row\n",
    "    \n",
    "    # 결과 행렬에 추가\n",
    "    result_matrix.append(result_row)\n",
    "\n",
    "# 결과 행렬 출력\n",
    "print(\"\\n결과 행렬 (최대 값부터 3번째 큰 값까지):\")\n",
    "for row in result_matrix:\n",
    "    print(row)"
   ]
  },
  {
   "cell_type": "code",
   "execution_count": null,
   "metadata": {},
   "outputs": [],
   "source": [
    "import random\n",
    "\n",
    "row, col = 5, 7  # 행과 열의 개수\n",
    "\n",
    "# 난수로 채워진 2차원 행렬 생성\n",
    "matrix1 = [[random.randint(1, 10) for _ in range(col)] for _ in range(row)]\n",
    "matrix2 = [[random.randint(1, 10) for _ in range(col)] for _ in range(row)]\n",
    "\n",
    "# 행렬 덧셈\n",
    "result = [[0 for _ in range(col)] for _ in range(row)]\n",
    "for i in range(row):\n",
    "    for j in range(col):\n",
    "        result[i][j] = matrix1[i][j] + matrix2[i][j]  # 덧셈 연산\n",
    "\n",
    "# 결과 출력\n",
    "print(\"matrix1:\")\n",
    "for row in matrix1:\n",
    "    print(row)\n",
    "\n",
    "print(\"\\nmatrix2:\")\n",
    "for row in matrix2:\n",
    "    print(row)\n",
    "\n",
    "print(\"\\nresult:\")\n",
    "for row in result:\n",
    "    print(row)"
   ]
  },
  {
   "cell_type": "code",
   "execution_count": null,
   "metadata": {},
   "outputs": [],
   "source": []
  }
 ],
 "metadata": {
  "kernelspec": {
   "display_name": "Python 3",
   "language": "python",
   "name": "python3"
  },
  "language_info": {
   "codemirror_mode": {
    "name": "ipython",
    "version": 3
   },
   "file_extension": ".py",
   "mimetype": "text/x-python",
   "name": "python",
   "nbconvert_exporter": "python",
   "pygments_lexer": "ipython3",
   "version": "3.9.13"
  }
 },
 "nbformat": 4,
 "nbformat_minor": 2
}
