{
 "cells": [
  {
   "cell_type": "code",
   "execution_count": 4,
   "metadata": {},
   "outputs": [
    {
     "name": "stdout",
     "output_type": "stream",
     "text": [
      "\n",
      "정렬 전 자동차 리스트: []\n",
      "\n",
      "정렬 후 자동차 리스트: []\n",
      "정렬된 자동차 리스트:\n"
     ]
    }
   ],
   "source": [
    "# 실습과제1_3,4장_리스트\n",
    "# 빈 cars 리스트 생성\n",
    "cars = []\n",
    "\n",
    "# 자동차 리스트에 자동차 이름 추가 (append, insert 사용)\n",
    "\n",
    "# 세 번째 위치에 삽입\n",
    "\n",
    "\n",
    "# f-문자열과 리스트 인덱스를 사용하여 첫 번째와 마지막 요소 출력\n",
    "\n",
    "\n",
    "# 정렬하기 전의 리스트 출력\n",
    "print(f\"\\n정렬 전 자동차 리스트: {cars}\")\n",
    "\n",
    "# 리스트 정렬\n",
    "\n",
    "\n",
    "# 정렬 후의 리스트 출력\n",
    "print(f\"\\n정렬 후 자동차 리스트: {cars}\")\n",
    "\n",
    "# 정렬된 리스트를 for loop로 각 행에 하나씩 출력\n",
    "print(\"정렬된 자동차 리스트:\")\n"
   ]
  },
  {
   "cell_type": "code",
   "execution_count": 10,
   "metadata": {},
   "outputs": [
    {
     "name": "stdout",
     "output_type": "stream",
     "text": [
      "['페라리', '람보르기니', '맥라렌', '페라리', '람보르기니', '맥라렌', '페라리', '람보르기니', '맥라렌', '페라리', '람보르기니', '맥라렌', '페라리', '람보르기니', '맥라렌']\n"
     ]
    }
   ],
   "source": [
    "cars.append(\"페라리\")\n",
    "cars.append(\"람보르기니\")\n",
    "cars.append(\"맥라렌\")\n",
    "cars.insert(3,\"삼천포\")\n",
    "print(f \"cars\"의 자동차  cars)\n",
    "print(cars)"
   ]
  },
  {
   "cell_type": "markdown",
   "metadata": {},
   "source": [
    "3장 리스트 다루기 실습"
   ]
  },
  {
   "cell_type": "code",
   "execution_count": 11,
   "metadata": {},
   "outputs": [
    {
     "name": "stdout",
     "output_type": "stream",
     "text": [
      "<class 'list'>\n"
     ]
    }
   ],
   "source": [
    "l = [1,2,3,4]\n",
    "print(type(l))"
   ]
  }
 ],
 "metadata": {
  "kernelspec": {
   "display_name": "Python 3",
   "language": "python",
   "name": "python3"
  },
  "language_info": {
   "codemirror_mode": {
    "name": "ipython",
    "version": 3
   },
   "file_extension": ".py",
   "mimetype": "text/x-python",
   "name": "python",
   "nbconvert_exporter": "python",
   "pygments_lexer": "ipython3",
   "version": "3.9.13"
  }
 },
 "nbformat": 4,
 "nbformat_minor": 2
}
