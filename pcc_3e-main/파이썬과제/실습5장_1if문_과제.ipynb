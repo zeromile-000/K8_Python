{
 "cells": [
  {
   "cell_type": "code",
   "execution_count": 4,
   "metadata": {},
   "outputs": [
    {
     "name": "stdout",
     "output_type": "stream",
     "text": [
      "else문 실행\n",
      "bmw\n",
      "if문이 참일떄\n",
      "else문 실행\n",
      "else문 실행\n"
     ]
    }
   ],
   "source": [
    "cars = ['audi','bmw','genesis','k5']\n",
    "for car in cars:\n",
    "  if car == 'bmw':\n",
    "    print(car)\n",
    "    print(\"if문이 참일떄\")\n",
    "  else:\n",
    "    print(\"else문 실행\")"
   ]
  },
  {
   "cell_type": "code",
   "execution_count": 10,
   "metadata": {},
   "outputs": [
    {
     "name": "stdout",
     "output_type": "stream",
     "text": [
      "good이 심볼에 있다\n",
      "토핑 = mushroom\n",
      "토핑 = onions\n",
      "토핑 = pineapple\n",
      "양념없다pineapple\n"
     ]
    }
   ],
   "source": [
    "symbo1 = 'good nice'\n",
    "if 'good' in symbo1:\n",
    "    print(f\"good이 심볼에 있다\") ##문자열이 포함되어있는지 체크\n",
    "    \n",
    "requested_toppings =['mushroom','onions','pineapple']\n",
    "for topping in requested_toppings:\n",
    "    print(f\"토핑 = {topping}\")\n",
    "if 'mushroom' not in requested_toppings: ## 리스트에 포함되는지 체크 \n",
    "    print(f\"{requested_toppings[0]}양념이 포함되다\")\n",
    "    print(\"ok\")\n",
    "else:\n",
    "    print(\"양념없다{}\".format(requested_toppings[2]))"
   ]
  },
  {
   "cell_type": "markdown",
   "metadata": {},
   "source": [
    "if n < 1 :\n",
    "    print\n",
    "elif n < 3:\n",
    "    print\n",
    "else:\n",
    "    print"
   ]
  },
  {
   "cell_type": "code",
   "execution_count": 10,
   "metadata": {},
   "outputs": [],
   "source": [
    "#tuple, list 구분\n",
    "lst = ()\n",
    "#lst[0] = 11\n",
    "# print((lst[0]))\n",
    "l = [] # list\n",
    "d = {} # dictionary\n",
    "s =\"123\"\n",
    "# l[0] = 11"
   ]
  },
  {
   "cell_type": "code",
   "execution_count": 11,
   "metadata": {},
   "outputs": [
    {
     "name": "stdout",
     "output_type": "stream",
     "text": [
      "기호 = 1\n",
      "기호 = 2\n",
      "기호 = 3\n"
     ]
    }
   ],
   "source": [
    "# lst = 1,2 # 튜플은 괄호를 생략해도 튜플로 인식\n",
    "# print(type(lst))\n",
    "# #lst[0] = 11 # 튜플은 수정할 수 없다.\n",
    "# l = [1,2]\n",
    "# l[0] = 11\n",
    "# print(type(l))\n",
    "\n",
    "if s :\n",
    "    for symbol in s:\n",
    "        print(f\"기호 = {symbol}\")\n",
    "else:\n",
    "    print(\"빈 심볼\")"
   ]
  },
  {
   "cell_type": "markdown",
   "metadata": {},
   "source": [
    "false로 반환되는 값: none, 0, 0.0, 빈컨테이너(빈 문자열, 빈 바이트열, 빈 리스트, 빈 튜플, 빈 딕셔너리)"
   ]
  },
  {
   "cell_type": "code",
   "execution_count": 18,
   "metadata": {},
   "outputs": [
    {
     "name": "stdout",
     "output_type": "stream",
     "text": [
      "Java 언어는 리스트에 존재하지 않습니다.\n",
      "Java 언어는 리스트에 존재하며, 인덱스는 0입니다.\n",
      "Java 언어는 리스트에 존재하지 않습니다.\n",
      "Java 언어는 리스트에 존재하지 않습니다.\n",
      "Java 언어는 리스트에 존재하지 않습니다.\n",
      "Java 언어는 리스트에 존재하며, 인덱스는 0입니다.\n"
     ]
    }
   ],
   "source": [
    "# 코딩 언어 리스트 초기화\n",
    "languages = ['Python', 'Java', 'C++', 'JavaScript', 'Ruby', 'Java']\n",
    "for index, language in enumerate(languages):\n",
    "  if language == 'Java':\n",
    "    print(f\"Java 언어는 리스트에 존재하며, 인덱스는 {index}입니다.\")\n",
    "  else:\n",
    "    print(\"Java 언어는 리스트에 존재하지 않습니다.\")\n",
    "\n",
    "\n",
    "# enumerate를 사용하여 'Java'가 존재하는지 확인하고 인덱스를 출력\n"
   ]
  }
 ],
 "metadata": {
  "kernelspec": {
   "display_name": "Python 3",
   "language": "python",
   "name": "python3"
  },
  "language_info": {
   "codemirror_mode": {
    "name": "ipython",
    "version": 3
   },
   "file_extension": ".py",
   "mimetype": "text/x-python",
   "name": "python",
   "nbconvert_exporter": "python",
   "pygments_lexer": "ipython3",
   "version": "3.9.13"
  }
 },
 "nbformat": 4,
 "nbformat_minor": 2
}
