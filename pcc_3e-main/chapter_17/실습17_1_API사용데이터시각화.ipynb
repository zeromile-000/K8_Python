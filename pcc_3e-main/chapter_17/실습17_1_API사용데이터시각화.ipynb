{
 "cells": [
  {
   "cell_type": "code",
   "execution_count": 1,
   "metadata": {},
   "outputs": [
    {
     "name": "stdout",
     "output_type": "stream",
     "text": [
      "Requirement already satisfied: requests in c:\\users\\user\\appdata\\local\\programs\\python\\python39\\lib\\site-packages (2.32.3)Note: you may need to restart the kernel to use updated packages.\n",
      "\n",
      "Requirement already satisfied: charset-normalizer<4,>=2 in c:\\users\\user\\appdata\\local\\programs\\python\\python39\\lib\\site-packages (from requests) (3.3.2)\n",
      "Requirement already satisfied: idna<4,>=2.5 in c:\\users\\user\\appdata\\local\\programs\\python\\python39\\lib\\site-packages (from requests) (3.10)\n",
      "Requirement already satisfied: urllib3<3,>=1.21.1 in c:\\users\\user\\appdata\\local\\programs\\python\\python39\\lib\\site-packages (from requests) (2.2.3)\n",
      "Requirement already satisfied: certifi>=2017.4.17 in c:\\users\\user\\appdata\\local\\programs\\python\\python39\\lib\\site-packages (from requests) (2024.8.30)\n"
     ]
    }
   ],
   "source": [
    "%pip install requests\n",
    "## should install requests directly in a notebook cell"
   ]
  },
  {
   "cell_type": "code",
   "execution_count": 2,
   "metadata": {},
   "outputs": [
    {
     "name": "stdout",
     "output_type": "stream",
     "text": [
      "Status code: 200\n",
      "dict_keys(['total_count', 'incomplete_results', 'items'])\n"
     ]
    }
   ],
   "source": [
    "import requests\n",
    "\n",
    "\n",
    "# Make an API call and check the response.\n",
    "url = \"https://api.github.com/search/repositories\"\n",
    "url += \"?q=language:python+sort:stars+stars:>10000\"\n",
    "\n",
    "headers = {\"Accept\": \"application/vnd.github.v3+json\"} #client가 서버로 부터 기대하는 응답 타입: 이 경우는 Github API의 버전 3을 사용하고 json 타입으로 달라 \n",
    "r = requests.get(url, headers=headers)\n",
    "print(f\"Status code: {r.status_code}\")\n",
    "\n",
    "# Convert the response object to a dictionary.\n",
    "response_dict = r.json() #json 메서드로 dictior를 반환\n",
    "\n",
    "# Process results.\n",
    "print(response_dict.keys()) # 200은 응답 성공"
   ]
  },
  {
   "cell_type": "code",
   "execution_count": 3,
   "metadata": {},
   "outputs": [
    {
     "name": "stdout",
     "output_type": "stream",
     "text": [
      "Total repositories: 548\n",
      "Complete results: True\n",
      "Repositories returned: 30\n",
      "\n",
      "Selected information about each repository:\n",
      "Name: public-apis\n",
      "Owner: public-apis\n",
      "Stars: 313793\n",
      "Repository: https://github.com/public-apis/public-apis\n",
      "Created: 2016-03-20T23:49:42Z\n",
      "Updated: 2024-10-08T02:49:52Z\n",
      "Description: A collective list of free APIs\n",
      "\n",
      "\n",
      "Name: system-design-primer\n",
      "Owner: donnemartin\n",
      "Stars: 271838\n",
      "Repository: https://github.com/donnemartin/system-design-primer\n",
      "Created: 2017-02-26T16:15:28Z\n",
      "Updated: 2024-10-08T02:35:28Z\n",
      "Description: Learn how to design large-scale systems. Prep for the system design interview.  Includes Anki flashcards.\n",
      "\n",
      "\n",
      "Name: awesome-python\n",
      "Owner: vinta\n",
      "Stars: 220803\n",
      "Repository: https://github.com/vinta/awesome-python\n",
      "Created: 2014-06-27T21:00:06Z\n",
      "Updated: 2024-10-08T02:51:21Z\n",
      "Description: An opinionated list of awesome Python frameworks, libraries, software and resources.\n",
      "\n",
      "\n",
      "Name: Python\n",
      "Owner: TheAlgorithms\n",
      "Stars: 190182\n",
      "Repository: https://github.com/TheAlgorithms/Python\n",
      "Created: 2016-07-16T09:44:01Z\n",
      "Updated: 2024-10-08T02:53:39Z\n",
      "Description: All Algorithms implemented in Python\n",
      "\n",
      "\n",
      "Name: AutoGPT\n",
      "Owner: Significant-Gravitas\n",
      "Stars: 167275\n",
      "Repository: https://github.com/Significant-Gravitas/AutoGPT\n",
      "Created: 2023-03-16T09:21:07Z\n",
      "Updated: 2024-10-08T02:08:36Z\n",
      "Description: AutoGPT is the vision of accessible AI for everyone, to use and to build on. Our mission is to provide the tools, so that you can focus on what matters.\n",
      "\n",
      "\n",
      "Name: Python-100-Days\n",
      "Owner: jackfrued\n",
      "Stars: 155458\n",
      "Repository: https://github.com/jackfrued/Python-100-Days\n",
      "Created: 2018-03-01T16:05:52Z\n",
      "Updated: 2024-10-08T02:45:18Z\n",
      "Description: Python - 100天从新手到大师\n",
      "\n",
      "\n",
      "Name: stable-diffusion-webui\n",
      "Owner: AUTOMATIC1111\n",
      "Stars: 140794\n",
      "Repository: https://github.com/AUTOMATIC1111/stable-diffusion-webui\n",
      "Created: 2022-08-22T14:05:26Z\n",
      "Updated: 2024-10-08T02:49:42Z\n",
      "Description: Stable Diffusion web UI\n",
      "\n",
      "\n",
      "Name: transformers\n",
      "Owner: huggingface\n",
      "Stars: 133034\n",
      "Repository: https://github.com/huggingface/transformers\n",
      "Created: 2018-10-29T13:56:00Z\n",
      "Updated: 2024-10-08T02:47:18Z\n",
      "Description: 🤗 Transformers: State-of-the-art Machine Learning for Pytorch, TensorFlow, and JAX.\n",
      "\n",
      "\n",
      "Name: youtube-dl\n",
      "Owner: ytdl-org\n",
      "Stars: 131716\n",
      "Repository: https://github.com/ytdl-org/youtube-dl\n",
      "Created: 2010-10-31T14:35:07Z\n",
      "Updated: 2024-10-08T02:44:55Z\n",
      "Description: Command-line program to download videos from YouTube.com and other video sites\n",
      "\n",
      "\n",
      "Name: HelloGitHub\n",
      "Owner: 521xueweihan\n",
      "Stars: 91490\n",
      "Repository: https://github.com/521xueweihan/HelloGitHub\n",
      "Created: 2016-05-04T06:24:11Z\n",
      "Updated: 2024-10-08T02:07:21Z\n",
      "Description: :octocat: 分享 GitHub 上有趣、入门级的开源项目。Share interesting, entry-level open source projects on GitHub.\n",
      "\n",
      "\n",
      "Name: thefuck\n",
      "Owner: nvbn\n",
      "Stars: 84964\n",
      "Repository: https://github.com/nvbn/thefuck\n",
      "Created: 2015-04-08T15:08:04Z\n",
      "Updated: 2024-10-07T23:29:25Z\n",
      "Description: Magnificent app which corrects your previous console command.\n",
      "\n",
      "\n",
      "Name: yt-dlp\n",
      "Owner: yt-dlp\n",
      "Stars: 84198\n",
      "Repository: https://github.com/yt-dlp/yt-dlp\n",
      "Created: 2020-10-26T04:22:55Z\n",
      "Updated: 2024-10-08T02:12:11Z\n",
      "Description: A feature-rich command-line audio/video downloader\n",
      "\n",
      "\n",
      "Name: pytorch\n",
      "Owner: pytorch\n",
      "Stars: 82736\n",
      "Repository: https://github.com/pytorch/pytorch\n",
      "Created: 2016-08-13T05:26:41Z\n",
      "Updated: 2024-10-08T02:25:47Z\n",
      "Description: Tensors and Dynamic neural networks in Python with strong GPU acceleration\n",
      "\n",
      "\n",
      "Name: django\n",
      "Owner: django\n",
      "Stars: 79508\n",
      "Repository: https://github.com/django/django\n",
      "Created: 2012-04-28T02:47:18Z\n",
      "Updated: 2024-10-08T01:23:28Z\n",
      "Description: The Web framework for perfectionists with deadlines.\n",
      "\n",
      "\n",
      "Name: models\n",
      "Owner: tensorflow\n",
      "Stars: 76997\n",
      "Repository: https://github.com/tensorflow/models\n",
      "Created: 2016-02-05T01:15:20Z\n",
      "Updated: 2024-10-08T01:45:09Z\n",
      "Description: Models and examples built with TensorFlow\n",
      "\n",
      "\n",
      "Name: fastapi\n",
      "Owner: fastapi\n",
      "Stars: 76322\n",
      "Repository: https://github.com/fastapi/fastapi\n",
      "Created: 2018-12-08T08:21:47Z\n",
      "Updated: 2024-10-08T02:24:52Z\n",
      "Description: FastAPI framework, high performance, easy to learn, fast to code, ready for production\n",
      "\n",
      "\n",
      "Name: core\n",
      "Owner: home-assistant\n",
      "Stars: 72244\n",
      "Repository: https://github.com/home-assistant/core\n",
      "Created: 2013-09-17T07:29:48Z\n",
      "Updated: 2024-10-08T02:09:04Z\n",
      "Description: :house_with_garden: Open source home automation that puts local control and privacy first.\n",
      "\n",
      "\n",
      "Name: whisper\n",
      "Owner: openai\n",
      "Stars: 68989\n",
      "Repository: https://github.com/openai/whisper\n",
      "Created: 2022-09-16T20:02:54Z\n",
      "Updated: 2024-10-08T02:53:00Z\n",
      "Description: Robust Speech Recognition via Large-Scale Weak Supervision\n",
      "\n",
      "\n",
      "Name: funNLP\n",
      "Owner: fighting41love\n",
      "Stars: 68089\n",
      "Repository: https://github.com/fighting41love/funNLP\n",
      "Created: 2018-08-21T11:20:39Z\n",
      "Updated: 2024-10-08T02:50:45Z\n",
      "Description: 中英文敏感词、语言检测、中外手机/电话归属地/运营商查询、名字推断性别、手机号抽取、身份证抽取、邮箱抽取、中日文人名库、中文缩写库、拆字词典、词汇情感值、停用词、反动词表、暴恐词表、繁简体转换、英文模拟中文发音、汪峰歌词生成器、职业名称词库、同义词库、反义词库、否定词库、汽车品牌词库、汽车零件词库、连续英文切割、各种中文词向量、公司名字大全、古诗词库、IT词库、财经词库、成语词库、地名词库、历史名人词库、诗词词库、医学词库、饮食词库、法律词库、汽车词库、动物词库、中文聊天语料、中文谣言数据、百度中文问答数据集、句子相似度匹配算法集合、bert资源、文本生成&摘要相关工具、cocoNLP信息抽取工具、国内电话号码正则匹配、清华大学XLORE:中英文跨语言百科知识图谱、清华大学人工智能技术系列报告、自然语言生成、NLU太难了系列、自动对联数据及机器人、用户名黑名单列表、罪名法务名词及分类模型、微信公众号语料、cs224n深度学习自然语言处理课程、中文手写汉字识别、中文自然语言处理 语料/数据集、变量命名神器、分词语料库+代码、任务型对话英文数据集、ASR 语音数据集 + 基于深度学习的中文语音识别系统、笑声检测器、Microsoft多语言数字/单位/如日期时间识别包、中华新华字典数据库及api(包括常用歇后语、成语、词语和汉字)、文档图谱自动生成、SpaCy 中文模型、Common Voice语音识别数据集新版、神经网络关系抽取、基于bert的命名实体识别、关键词(Keyphrase)抽取包pke、基于医疗领域知识图谱的问答系统、基于依存句法与语义角色标注的事件三元组抽取、依存句法分析4万句高质量标注数据、cnocr：用来做中文OCR的Python3包、中文人物关系知识图谱项目、中文nlp竞赛项目及代码汇总、中文字符数据、speech-aligner: 从“人声语音”及其“语言文本”产生音素级别时间对齐标注的工具、AmpliGraph: 知识图谱表示学习(Python)库：知识图谱概念链接预测、Scattertext 文本可视化(python)、语言/知识表示工具：BERT & ERNIE、中文对比英文自然语言处理NLP的区别综述、Synonyms中文近义词工具包、HarvestText领域自适应文本挖掘工具（新词发现-情感分析-实体链接等）、word2word：(Python)方便易用的多语言词-词对集：62种语言/3,564个多语言对、语音识别语料生成工具：从具有音频/字幕的在线视频创建自动语音识别(ASR)语料库、构建医疗实体识别的模型（包含词典和语料标注）、单文档非监督的关键词抽取、Kashgari中使用gpt-2语言模型、开源的金融投资数据提取工具、文本自动摘要库TextTeaser: 仅支持英文、人民日报语料处理工具集、一些关于自然语言的基本模型、基于14W歌曲知识库的问答尝试--功能包括歌词接龙and已知歌词找歌曲以及歌曲歌手歌词三角关系的问答、基于Siamese bilstm模型的相似句子判定模型并提供训练数据集和测试数据集、用Transformer编解码模型实现的根据Hacker News文章标题自动生成评论、用BERT进行序列标记和文本分类的模板代码、LitBank：NLP数据集——支持自然语言处理和计算人文学科任务的100部带标记英文小说语料、百度开源的基准信息抽取系统、虚假新闻数据集、Facebook: LAMA语言模型分析，提供Transformer-XL/BERT/ELMo/GPT预训练语言模型的统一访问接口、CommonsenseQA：面向常识的英文QA挑战、中文知识图谱资料、数据及工具、各大公司内部里大牛分享的技术文档 PDF 或者 PPT、自然语言生成SQL语句（英文）、中文NLP数据增强（EDA）工具、英文NLP数据增强工具 、基于医药知识图谱的智能问答系统、京东商品知识图谱、基于mongodb存储的军事领域知识图谱问答项目、基于远监督的中文关系抽取、语音情感分析、中文ULMFiT-情感分析-文本分类-语料及模型、一个拍照做题程序、世界各国大规模人名库、一个利用有趣中文语料库 qingyun 训练出来的中文聊天机器人、中文聊天机器人seqGAN、省市区镇行政区划数据带拼音标注、教育行业新闻语料库包含自动文摘功能、开放了对话机器人-知识图谱-语义理解-自然语言处理工具及数据、中文知识图谱：基于百度百科中文页面-抽取三元组信息-构建中文知识图谱、masr: 中文语音识别-提供预训练模型-高识别率、Python音频数据增广库、中文全词覆盖BERT及两份阅读理解数据、ConvLab：开源多域端到端对话系统平台、中文自然语言处理数据集、基于最新版本rasa搭建的对话系统、基于TensorFlow和BERT的管道式实体及关系抽取、一个小型的证券知识图谱/知识库、复盘所有NLP比赛的TOP方案、OpenCLaP：多领域开源中文预训练语言模型仓库、UER：基于不同语料+编码器+目标任务的中文预训练模型仓库、中文自然语言处理向量合集、基于金融-司法领域(兼有闲聊性质)的聊天机器人、g2pC：基于上下文的汉语读音自动标记模块、Zincbase 知识图谱构建工具包、诗歌质量评价/细粒度情感诗歌语料库、快速转化「中文数字」和「阿拉伯数字」、百度知道问答语料库、基于知识图谱的问答系统、jieba_fast 加速版的jieba、正则表达式教程、中文阅读理解数据集、基于BERT等最新语言模型的抽取式摘要提取、Python利用深度学习进行文本摘要的综合指南、知识图谱深度学习相关资料整理、维基大规模平行文本语料、StanfordNLP 0.2.0：纯Python版自然语言处理包、NeuralNLP-NeuralClassifier：腾讯开源深度学习文本分类工具、端到端的封闭域对话系统、中文命名实体识别：NeuroNER vs. BertNER、新闻事件线索抽取、2019年百度的三元组抽取比赛：“科学空间队”源码、基于依存句法的开放域文本知识三元组抽取和知识库构建、中文的GPT2训练代码、ML-NLP - 机器学习(Machine Learning)NLP面试中常考到的知识点和代码实现、nlp4han:中文自然语言处理工具集(断句/分词/词性标注/组块/句法分析/语义分析/NER/N元语法/HMM/代词消解/情感分析/拼写检查、XLM：Facebook的跨语言预训练语言模型、用基于BERT的微调和特征提取方法来进行知识图谱百度百科人物词条属性抽取、中文自然语言处理相关的开放任务-数据集-当前最佳结果、CoupletAI - 基于CNN+Bi-LSTM+Attention 的自动对对联系统、抽象知识图谱、MiningZhiDaoQACorpus - 580万百度知道问答数据挖掘项目、brat rapid annotation tool: 序列标注工具、大规模中文知识图谱数据：1.4亿实体、数据增强在机器翻译及其他nlp任务中的应用及效果、allennlp阅读理解:支持多种数据和模型、PDF表格数据提取工具 、 Graphbrain：AI开源软件库和科研工具，目的是促进自动意义提取和文本理解以及知识的探索和推断、简历自动筛选系统、基于命名实体识别的简历自动摘要、中文语言理解测评基准，包括代表性的数据集&基准模型&语料库&排行榜、树洞 OCR 文字识别 、从包含表格的扫描图片中识别表格和文字、语声迁移、Python口语自然语言处理工具集(英文)、 similarity：相似度计算工具包，java编写、海量中文预训练ALBERT模型 、Transformers 2.0 、基于大规模音频数据集Audioset的音频增强 、Poplar：网页版自然语言标注工具、图片文字去除，可用于漫画翻译 、186种语言的数字叫法库、Amazon发布基于知识的人-人开放领域对话数据集 、中文文本纠错模块代码、繁简体转换 、 Python实现的多种文本可读性评价指标、类似于人名/地名/组织机构名的命名体识别数据集 、东南大学《知识图谱》研究生课程(资料)、. 英文拼写检查库 、 wwsearch是企业微信后台自研的全文检索引擎、CHAMELEON：深度学习新闻推荐系统元架构 、 8篇论文梳理BERT相关模型进展与反思、DocSearch：免费文档搜索引擎、 LIDA：轻量交互式对话标注工具 、aili - the fastest in-memory index in the East 东半球最快并发索引 、知识图谱车音工作项目、自然语言生成资源大全 、中日韩分词库mecab的Python接口库、中文文本摘要/关键词提取、汉字字符特征提取器 (featurizer)，提取汉字的特征（发音特征、字形特征）用做深度学习的特征、中文生成任务基准测评 、中文缩写数据集、中文任务基准测评 - 代表性的数据集-基准(预训练)模型-语料库-baseline-工具包-排行榜、PySS3：面向可解释AI的SS3文本分类器机器可视化工具 、中文NLP数据集列表、COPE - 格律诗编辑程序、doccano：基于网页的开源协同多语言文本标注工具 、PreNLP：自然语言预处理库、简单的简历解析器，用来从简历中提取关键信息、用于中文闲聊的GPT2模型：GPT2-chitchat、基于检索聊天机器人多轮响应选择相关资源列表(Leaderboards、Datasets、Papers)、(Colab)抽象文本摘要实现集锦(教程 、词语拼音数据、高效模糊搜索工具、NLP数据增广资源集、微软对话机器人框架 、 GitHub Typo Corpus：大规模GitHub多语言拼写错误/语法错误数据集、TextCluster：短文本聚类预处理模块 Short text cluster、面向语音识别的中文文本规范化、BLINK：最先进的实体链接库、BertPunc：基于BERT的最先进标点修复模型、Tokenizer：快速、可定制的文本词条化库、中文语言理解测评基准，包括代表性的数据集、基准(预训练)模型、语料库、排行榜、spaCy 医学文本挖掘与信息提取 、 NLP任务示例项目代码集、 python拼写检查库、chatbot-list - 行业内关于智能客服、聊天机器人的应用和架构、算法分享和介绍、语音质量评价指标(MOSNet, BSSEval, STOI, PESQ, SRMR)、 用138GB语料训练的法文RoBERTa预训练语言模型 、BERT-NER-Pytorch：三种不同模式的BERT中文NER实验、无道词典 - 有道词典的命令行版本，支持英汉互查和在线查询、2019年NLP亮点回顾、 Chinese medical dialogue data 中文医疗对话数据集 、最好的汉字数字(中文数字)-阿拉伯数字转换工具、 基于百科知识库的中文词语多词义/义项获取与特定句子词语语义消歧、awesome-nlp-sentiment-analysis - 情感分析、情绪原因识别、评价对象和评价词抽取、LineFlow：面向所有深度学习框架的NLP数据高效加载器、中文医学NLP公开资源整理 、MedQuAD：(英文)医学问答数据集、将自然语言数字串解析转换为整数和浮点数、Transfer Learning in Natural Language Processing (NLP) 、面向语音识别的中文/英文发音辞典、Tokenizers：注重性能与多功能性的最先进分词器、CLUENER 细粒度命名实体识别 Fine Grained Named Entity Recognition、 基于BERT的中文命名实体识别、中文谣言数据库、NLP数据集/基准任务大列表、nlp相关的一些论文及代码, 包括主题模型、词向量(Word Embedding)、命名实体识别(NER)、文本分类(Text Classificatin)、文本生成(Text Generation)、文本相似性(Text Similarity)计算等，涉及到各种与nlp相关的算法，基于keras和tensorflow 、Python文本挖掘/NLP实战示例、 Blackstone：面向非结构化法律文本的spaCy pipeline和NLP模型通过同义词替换实现文本“变脸” 、中文 预训练 ELECTREA 模型: 基于对抗学习 pretrain Chinese Model 、albert-chinese-ner - 用预训练语言模型ALBERT做中文NER 、基于GPT2的特定主题文本生成/文本增广、开源预训练语言模型合集、多语言句向量包、编码、标记和实现：一种可控高效的文本生成方法、 英文脏话大列表 、attnvis：GPT2、BERT等transformer语言模型注意力交互可视化、CoVoST：Facebook发布的多语种语音-文本翻译语料库，包括11种语言(法语、德语、荷兰语、俄语、西班牙语、意大利语、土耳其语、波斯语、瑞典语、蒙古语和中文)的语音、文字转录及英文译文、Jiagu自然语言处理工具 - 以BiLSTM等模型为基础，提供知识图谱关系抽取 中文分词 词性标注 命名实体识别 情感分析 新词发现 关键词 文本摘要 文本聚类等功能、用unet实现对文档表格的自动检测，表格重建、NLP事件提取文献资源列表 、 金融领域自然语言处理研究资源大列表、CLUEDatasetSearch - 中英文NLP数据集：搜索所有中文NLP数据集，附常用英文NLP数据集 、medical_NER - 中文医学知识图谱命名实体识别 、(哈佛)讲因果推理的免费书、知识图谱相关学习资料/数据集/工具资源大列表、Forte：灵活强大的自然语言处理pipeline工具集 、Python字符串相似性算法库、PyLaia：面向手写文档分析的深度学习工具包、TextFooler：针对文本分类/推理的对抗文本生成模块、Haystack：灵活、强大的可扩展问答(QA)框架、中文关键短语抽取工具\n",
      "\n",
      "\n",
      "Name: flask\n",
      "Owner: pallets\n",
      "Stars: 67744\n",
      "Repository: https://github.com/pallets/flask\n",
      "Created: 2010-04-06T11:11:59Z\n",
      "Updated: 2024-10-08T02:42:38Z\n",
      "Description: The Python micro framework for building web applications.\n",
      "\n",
      "\n",
      "Name: devops-exercises\n",
      "Owner: bregman-arie\n",
      "Stars: 66184\n",
      "Repository: https://github.com/bregman-arie/devops-exercises\n",
      "Created: 2019-10-03T17:31:21Z\n",
      "Updated: 2024-10-08T02:53:29Z\n",
      "Description: Linux, Jenkins, AWS, SRE, Prometheus, Docker, Python, Ansible, Git, Kubernetes, Terraform, OpenStack, SQL, NoSQL, Azure, GCP, DNS, Elastic, Network, Virtualization. DevOps Interview Questions\n",
      "\n",
      "\n",
      "Name: awesome-machine-learning\n",
      "Owner: josephmisiti\n",
      "Stars: 65620\n",
      "Repository: https://github.com/josephmisiti/awesome-machine-learning\n",
      "Created: 2014-07-15T19:11:19Z\n",
      "Updated: 2024-10-08T02:40:50Z\n",
      "Description: A curated list of awesome Machine Learning frameworks, libraries and software.\n",
      "\n",
      "\n",
      "Name: gpt_academic\n",
      "Owner: binary-husky\n",
      "Stars: 64569\n",
      "Repository: https://github.com/binary-husky/gpt_academic\n",
      "Created: 2023-03-20T09:05:13Z\n",
      "Updated: 2024-10-08T02:41:05Z\n",
      "Description: 为GPT/GLM等LLM大语言模型提供实用化交互接口，特别优化论文阅读/润色/写作体验，模块化设计，支持自定义快捷按钮&函数插件，支持Python和C++等项目剖析&自译解功能，PDF/LaTex论文翻译&总结功能，支持并行问询多种LLM模型，支持chatglm3等本地模型。接入通义千问, deepseekcoder, 讯飞星火, 文心一言, llama2, rwkv, claude2, moss等。\n",
      "\n",
      "\n",
      "Name: manim\n",
      "Owner: 3b1b\n",
      "Stars: 63040\n",
      "Repository: https://github.com/3b1b/manim\n",
      "Created: 2015-03-22T18:50:58Z\n",
      "Updated: 2024-10-08T02:21:31Z\n",
      "Description: Animation engine for explanatory math videos\n",
      "\n",
      "\n",
      "Name: cpython\n",
      "Owner: python\n",
      "Stars: 62790\n",
      "Repository: https://github.com/python/cpython\n",
      "Created: 2017-02-10T19:23:51Z\n",
      "Updated: 2024-10-08T02:13:48Z\n",
      "Description: The Python programming language\n",
      "\n",
      "\n",
      "Name: ansible\n",
      "Owner: ansible\n",
      "Stars: 62538\n",
      "Repository: https://github.com/ansible/ansible\n",
      "Created: 2012-03-06T14:58:02Z\n",
      "Updated: 2024-10-08T01:35:34Z\n",
      "Description: Ansible is a radically simple IT automation platform that makes your applications and systems easier to deploy and maintain. Automate everything from code deployment to network configuration to cloud management, in a language that approaches plain English, using SSH, with no agents to install on remote systems. https://docs.ansible.com.\n",
      "\n",
      "\n",
      "Name: d2l-zh\n",
      "Owner: d2l-ai\n",
      "Stars: 61883\n",
      "Repository: https://github.com/d2l-ai/d2l-zh\n",
      "Created: 2017-08-23T04:40:24Z\n",
      "Updated: 2024-10-08T02:35:59Z\n",
      "Description: 《动手学深度学习》：面向中文读者、能运行、可讨论。中英文版被70多个国家的500多所大学用于教学。\n",
      "\n",
      "\n",
      "Name: keras\n",
      "Owner: keras-team\n",
      "Stars: 61727\n",
      "Repository: https://github.com/keras-team/keras\n",
      "Created: 2015-03-28T00:35:42Z\n",
      "Updated: 2024-10-08T00:04:14Z\n",
      "Description: Deep Learning for humans\n",
      "\n",
      "\n",
      "Name: PayloadsAllTheThings\n",
      "Owner: swisskyrepo\n",
      "Stars: 60479\n",
      "Repository: https://github.com/swisskyrepo/PayloadsAllTheThings\n",
      "Created: 2016-10-18T07:29:07Z\n",
      "Updated: 2024-10-08T02:42:57Z\n",
      "Description: A list of useful payloads and bypass for Web Application Security and Pentest/CTF\n",
      "\n",
      "\n",
      "Name: gpt4free\n",
      "Owner: xtekky\n",
      "Stars: 60241\n",
      "Repository: https://github.com/xtekky/gpt4free\n",
      "Created: 2023-03-29T17:00:43Z\n",
      "Updated: 2024-10-08T02:49:11Z\n",
      "Description: The official gpt4free repository | various collection of powerful language models\n",
      "\n",
      "\n"
     ]
    }
   ],
   "source": [
    "print(f\"Total repositories: {response_dict['total_count']}\")\n",
    "print(f\"Complete results: {not response_dict['incomplete_results']}\")\n",
    "\n",
    "# Explore information about the repositories.\n",
    "repo_dicts = response_dict['items']\n",
    "print(f\"Repositories returned: {len(repo_dicts)}\")\n",
    "\n",
    "print(\"\\nSelected information about each repository:\")\n",
    "for repo_dict in repo_dicts:\n",
    "    print(f\"Name: {repo_dict['name']}\")\n",
    "    print(f\"Owner: {repo_dict['owner']['login']}\")\n",
    "    print(f\"Stars: {repo_dict['stargazers_count']}\") ##별점 \n",
    "    print(f\"Repository: {repo_dict['html_url']}\")\n",
    "    print(f\"Created: {repo_dict['created_at']}\")\n",
    "    print(f\"Updated: {repo_dict['updated_at']}\")\n",
    "    print(f\"Description: {repo_dict['description']}\")\n",
    "    print(f\"\\n\")"
   ]
  },
  {
   "cell_type": "markdown",
   "metadata": {},
   "source": [
    "https://api.github.com/rate_limit\n",
    "\n",
    "API속도 제한 확인하기 : 교재 487"
   ]
  },
  {
   "cell_type": "code",
   "execution_count": 4,
   "metadata": {},
   "outputs": [
    {
     "name": "stdout",
     "output_type": "stream",
     "text": [
      "Requirement already satisfied: plotly in c:\\users\\user\\appdata\\local\\programs\\python\\python39\\lib\\site-packages (5.24.1)\n",
      "Requirement already satisfied: tenacity>=6.2.0 in c:\\users\\user\\appdata\\local\\programs\\python\\python39\\lib\\site-packages (from plotly) (9.0.0)\n",
      "Requirement already satisfied: packaging in c:\\users\\user\\appdata\\roaming\\python\\python39\\site-packages (from plotly) (24.1)\n",
      "Note: you may need to restart the kernel to use updated packages.\n"
     ]
    }
   ],
   "source": [
    "%pip install plotly"
   ]
  },
  {
   "cell_type": "code",
   "execution_count": 5,
   "metadata": {},
   "outputs": [
    {
     "name": "stdout",
     "output_type": "stream",
     "text": [
      "Requirement already satisfied: nbformat in c:\\users\\user\\appdata\\local\\programs\\python\\python39\\lib\\site-packages (5.10.4)\n",
      "Requirement already satisfied: fastjsonschema>=2.15 in c:\\users\\user\\appdata\\local\\programs\\python\\python39\\lib\\site-packages (from nbformat) (2.20.0)\n",
      "Requirement already satisfied: jsonschema>=2.6 in c:\\users\\user\\appdata\\local\\programs\\python\\python39\\lib\\site-packages (from nbformat) (4.23.0)\n",
      "Requirement already satisfied: jupyter-core!=5.0.*,>=4.12 in c:\\users\\user\\appdata\\roaming\\python\\python39\\site-packages (from nbformat) (5.7.2)\n",
      "Requirement already satisfied: traitlets>=5.1 in c:\\users\\user\\appdata\\roaming\\python\\python39\\site-packages (from nbformat) (5.14.3)\n",
      "Requirement already satisfied: attrs>=22.2.0 in c:\\users\\user\\appdata\\local\\programs\\python\\python39\\lib\\site-packages (from jsonschema>=2.6->nbformat) (24.2.0)\n",
      "Requirement already satisfied: jsonschema-specifications>=2023.03.6 in c:\\users\\user\\appdata\\local\\programs\\python\\python39\\lib\\site-packages (from jsonschema>=2.6->nbformat) (2023.12.1)\n",
      "Requirement already satisfied: referencing>=0.28.4 in c:\\users\\user\\appdata\\local\\programs\\python\\python39\\lib\\site-packages (from jsonschema>=2.6->nbformat) (0.35.1)\n",
      "Requirement already satisfied: rpds-py>=0.7.1 in c:\\users\\user\\appdata\\local\\programs\\python\\python39\\lib\\site-packages (from jsonschema>=2.6->nbformat) (0.20.0)\n",
      "Requirement already satisfied: platformdirs>=2.5 in c:\\users\\user\\appdata\\roaming\\python\\python39\\site-packages (from jupyter-core!=5.0.*,>=4.12->nbformat) (4.3.6)\n",
      "Requirement already satisfied: pywin32>=300 in c:\\users\\user\\appdata\\roaming\\python\\python39\\site-packages (from jupyter-core!=5.0.*,>=4.12->nbformat) (306)\n",
      "Note: you may need to restart the kernel to use updated packages.\n"
     ]
    }
   ],
   "source": [
    "%pip install nbformat\n",
    "## 설치후 Restart 구동후 다음 코드를 실행 "
   ]
  },
  {
   "cell_type": "code",
   "execution_count": 1,
   "metadata": {},
   "outputs": [
    {
     "name": "stdout",
     "output_type": "stream",
     "text": [
      "Status code: 200\n",
      "Complete results: True\n"
     ]
    },
    {
     "data": {
      "application/vnd.plotly.v1+json": {
       "config": {
        "plotlyServerURL": "https://plot.ly"
       },
       "data": [
        {
         "alignmentgroup": "True",
         "hovertemplate": "<b>%{hovertext}</b><br><br>저장소=%{x}<br>별점=%{y}<extra></extra>",
         "hovertext": [
          "public-apis<br />A collective list of free APIs",
          "donnemartin<br />Learn how to design large-scale systems. Prep for the system design interview.  Includes Anki flashcards.",
          "vinta<br />An opinionated list of awesome Python frameworks, libraries, software and resources.",
          "TheAlgorithms<br />All Algorithms implemented in Python",
          "Significant-Gravitas<br />AutoGPT is the vision of accessible AI for everyone, to use and to build on. Our mission is to provide the tools, so that you can focus on what matters.",
          "jackfrued<br />Python - 100天从新手到大师",
          "AUTOMATIC1111<br />Stable Diffusion web UI",
          "huggingface<br />🤗 Transformers: State-of-the-art Machine Learning for Pytorch, TensorFlow, and JAX.",
          "ytdl-org<br />Command-line program to download videos from YouTube.com and other video sites",
          "521xueweihan<br />:octocat: 分享 GitHub 上有趣、入门级的开源项目。Share interesting, entry-level open source projects on GitHub.",
          "nvbn<br />Magnificent app which corrects your previous console command.",
          "yt-dlp<br />A feature-rich command-line audio/video downloader",
          "pytorch<br />Tensors and Dynamic neural networks in Python with strong GPU acceleration",
          "django<br />The Web framework for perfectionists with deadlines.",
          "tensorflow<br />Models and examples built with TensorFlow",
          "fastapi<br />FastAPI framework, high performance, easy to learn, fast to code, ready for production",
          "home-assistant<br />:house_with_garden: Open source home automation that puts local control and privacy first.",
          "openai<br />Robust Speech Recognition via Large-Scale Weak Supervision",
          "fighting41love<br />中英文敏感词、语言检测、中外手机/电话归属地/运营商查询、名字推断性别、手机号抽取、身份证抽取、邮箱抽取、中日文人名库、中文缩写库、拆字词典、词汇情感值、停用词、反动词表、暴恐词表、繁简体转换、英文模拟中文发音、汪峰歌词生成器、职业名称词库、同义词库、反义词库、否定词库、汽车品牌词库、汽车零件词库、连续英文切割、各种中文词向量、公司名字大全、古诗词库、IT词库、财经词库、成语词库、地名词库、历史名人词库、诗词词库、医学词库、饮食词库、法律词库、汽车词库、动物词库、中文聊天语料、中文谣言数据、百度中文问答数据集、句子相似度匹配算法集合、bert资源、文本生成&摘要相关工具、cocoNLP信息抽取工具、国内电话号码正则匹配、清华大学XLORE:中英文跨语言百科知识图谱、清华大学人工智能技术系列报告、自然语言生成、NLU太难了系列、自动对联数据及机器人、用户名黑名单列表、罪名法务名词及分类模型、微信公众号语料、cs224n深度学习自然语言处理课程、中文手写汉字识别、中文自然语言处理 语料/数据集、变量命名神器、分词语料库+代码、任务型对话英文数据集、ASR 语音数据集 + 基于深度学习的中文语音识别系统、笑声检测器、Microsoft多语言数字/单位/如日期时间识别包、中华新华字典数据库及api(包括常用歇后语、成语、词语和汉字)、文档图谱自动生成、SpaCy 中文模型、Common Voice语音识别数据集新版、神经网络关系抽取、基于bert的命名实体识别、关键词(Keyphrase)抽取包pke、基于医疗领域知识图谱的问答系统、基于依存句法与语义角色标注的事件三元组抽取、依存句法分析4万句高质量标注数据、cnocr：用来做中文OCR的Python3包、中文人物关系知识图谱项目、中文nlp竞赛项目及代码汇总、中文字符数据、speech-aligner: 从“人声语音”及其“语言文本”产生音素级别时间对齐标注的工具、AmpliGraph: 知识图谱表示学习(Python)库：知识图谱概念链接预测、Scattertext 文本可视化(python)、语言/知识表示工具：BERT & ERNIE、中文对比英文自然语言处理NLP的区别综述、Synonyms中文近义词工具包、HarvestText领域自适应文本挖掘工具（新词发现-情感分析-实体链接等）、word2word：(Python)方便易用的多语言词-词对集：62种语言/3,564个多语言对、语音识别语料生成工具：从具有音频/字幕的在线视频创建自动语音识别(ASR)语料库、构建医疗实体识别的模型（包含词典和语料标注）、单文档非监督的关键词抽取、Kashgari中使用gpt-2语言模型、开源的金融投资数据提取工具、文本自动摘要库TextTeaser: 仅支持英文、人民日报语料处理工具集、一些关于自然语言的基本模型、基于14W歌曲知识库的问答尝试--功能包括歌词接龙and已知歌词找歌曲以及歌曲歌手歌词三角关系的问答、基于Siamese bilstm模型的相似句子判定模型并提供训练数据集和测试数据集、用Transformer编解码模型实现的根据Hacker News文章标题自动生成评论、用BERT进行序列标记和文本分类的模板代码、LitBank：NLP数据集——支持自然语言处理和计算人文学科任务的100部带标记英文小说语料、百度开源的基准信息抽取系统、虚假新闻数据集、Facebook: LAMA语言模型分析，提供Transformer-XL/BERT/ELMo/GPT预训练语言模型的统一访问接口、CommonsenseQA：面向常识的英文QA挑战、中文知识图谱资料、数据及工具、各大公司内部里大牛分享的技术文档 PDF 或者 PPT、自然语言生成SQL语句（英文）、中文NLP数据增强（EDA）工具、英文NLP数据增强工具 、基于医药知识图谱的智能问答系统、京东商品知识图谱、基于mongodb存储的军事领域知识图谱问答项目、基于远监督的中文关系抽取、语音情感分析、中文ULMFiT-情感分析-文本分类-语料及模型、一个拍照做题程序、世界各国大规模人名库、一个利用有趣中文语料库 qingyun 训练出来的中文聊天机器人、中文聊天机器人seqGAN、省市区镇行政区划数据带拼音标注、教育行业新闻语料库包含自动文摘功能、开放了对话机器人-知识图谱-语义理解-自然语言处理工具及数据、中文知识图谱：基于百度百科中文页面-抽取三元组信息-构建中文知识图谱、masr: 中文语音识别-提供预训练模型-高识别率、Python音频数据增广库、中文全词覆盖BERT及两份阅读理解数据、ConvLab：开源多域端到端对话系统平台、中文自然语言处理数据集、基于最新版本rasa搭建的对话系统、基于TensorFlow和BERT的管道式实体及关系抽取、一个小型的证券知识图谱/知识库、复盘所有NLP比赛的TOP方案、OpenCLaP：多领域开源中文预训练语言模型仓库、UER：基于不同语料+编码器+目标任务的中文预训练模型仓库、中文自然语言处理向量合集、基于金融-司法领域(兼有闲聊性质)的聊天机器人、g2pC：基于上下文的汉语读音自动标记模块、Zincbase 知识图谱构建工具包、诗歌质量评价/细粒度情感诗歌语料库、快速转化「中文数字」和「阿拉伯数字」、百度知道问答语料库、基于知识图谱的问答系统、jieba_fast 加速版的jieba、正则表达式教程、中文阅读理解数据集、基于BERT等最新语言模型的抽取式摘要提取、Python利用深度学习进行文本摘要的综合指南、知识图谱深度学习相关资料整理、维基大规模平行文本语料、StanfordNLP 0.2.0：纯Python版自然语言处理包、NeuralNLP-NeuralClassifier：腾讯开源深度学习文本分类工具、端到端的封闭域对话系统、中文命名实体识别：NeuroNER vs. BertNER、新闻事件线索抽取、2019年百度的三元组抽取比赛：“科学空间队”源码、基于依存句法的开放域文本知识三元组抽取和知识库构建、中文的GPT2训练代码、ML-NLP - 机器学习(Machine Learning)NLP面试中常考到的知识点和代码实现、nlp4han:中文自然语言处理工具集(断句/分词/词性标注/组块/句法分析/语义分析/NER/N元语法/HMM/代词消解/情感分析/拼写检查、XLM：Facebook的跨语言预训练语言模型、用基于BERT的微调和特征提取方法来进行知识图谱百度百科人物词条属性抽取、中文自然语言处理相关的开放任务-数据集-当前最佳结果、CoupletAI - 基于CNN+Bi-LSTM+Attention 的自动对对联系统、抽象知识图谱、MiningZhiDaoQACorpus - 580万百度知道问答数据挖掘项目、brat rapid annotation tool: 序列标注工具、大规模中文知识图谱数据：1.4亿实体、数据增强在机器翻译及其他nlp任务中的应用及效果、allennlp阅读理解:支持多种数据和模型、PDF表格数据提取工具 、 Graphbrain：AI开源软件库和科研工具，目的是促进自动意义提取和文本理解以及知识的探索和推断、简历自动筛选系统、基于命名实体识别的简历自动摘要、中文语言理解测评基准，包括代表性的数据集&基准模型&语料库&排行榜、树洞 OCR 文字识别 、从包含表格的扫描图片中识别表格和文字、语声迁移、Python口语自然语言处理工具集(英文)、 similarity：相似度计算工具包，java编写、海量中文预训练ALBERT模型 、Transformers 2.0 、基于大规模音频数据集Audioset的音频增强 、Poplar：网页版自然语言标注工具、图片文字去除，可用于漫画翻译 、186种语言的数字叫法库、Amazon发布基于知识的人-人开放领域对话数据集 、中文文本纠错模块代码、繁简体转换 、 Python实现的多种文本可读性评价指标、类似于人名/地名/组织机构名的命名体识别数据集 、东南大学《知识图谱》研究生课程(资料)、. 英文拼写检查库 、 wwsearch是企业微信后台自研的全文检索引擎、CHAMELEON：深度学习新闻推荐系统元架构 、 8篇论文梳理BERT相关模型进展与反思、DocSearch：免费文档搜索引擎、 LIDA：轻量交互式对话标注工具 、aili - the fastest in-memory index in the East 东半球最快并发索引 、知识图谱车音工作项目、自然语言生成资源大全 、中日韩分词库mecab的Python接口库、中文文本摘要/关键词提取、汉字字符特征提取器 (featurizer)，提取汉字的特征（发音特征、字形特征）用做深度学习的特征、中文生成任务基准测评 、中文缩写数据集、中文任务基准测评 - 代表性的数据集-基准(预训练)模型-语料库-baseline-工具包-排行榜、PySS3：面向可解释AI的SS3文本分类器机器可视化工具 、中文NLP数据集列表、COPE - 格律诗编辑程序、doccano：基于网页的开源协同多语言文本标注工具 、PreNLP：自然语言预处理库、简单的简历解析器，用来从简历中提取关键信息、用于中文闲聊的GPT2模型：GPT2-chitchat、基于检索聊天机器人多轮响应选择相关资源列表(Leaderboards、Datasets、Papers)、(Colab)抽象文本摘要实现集锦(教程 、词语拼音数据、高效模糊搜索工具、NLP数据增广资源集、微软对话机器人框架 、 GitHub Typo Corpus：大规模GitHub多语言拼写错误/语法错误数据集、TextCluster：短文本聚类预处理模块 Short text cluster、面向语音识别的中文文本规范化、BLINK：最先进的实体链接库、BertPunc：基于BERT的最先进标点修复模型、Tokenizer：快速、可定制的文本词条化库、中文语言理解测评基准，包括代表性的数据集、基准(预训练)模型、语料库、排行榜、spaCy 医学文本挖掘与信息提取 、 NLP任务示例项目代码集、 python拼写检查库、chatbot-list - 行业内关于智能客服、聊天机器人的应用和架构、算法分享和介绍、语音质量评价指标(MOSNet, BSSEval, STOI, PESQ, SRMR)、 用138GB语料训练的法文RoBERTa预训练语言模型 、BERT-NER-Pytorch：三种不同模式的BERT中文NER实验、无道词典 - 有道词典的命令行版本，支持英汉互查和在线查询、2019年NLP亮点回顾、 Chinese medical dialogue data 中文医疗对话数据集 、最好的汉字数字(中文数字)-阿拉伯数字转换工具、 基于百科知识库的中文词语多词义/义项获取与特定句子词语语义消歧、awesome-nlp-sentiment-analysis - 情感分析、情绪原因识别、评价对象和评价词抽取、LineFlow：面向所有深度学习框架的NLP数据高效加载器、中文医学NLP公开资源整理 、MedQuAD：(英文)医学问答数据集、将自然语言数字串解析转换为整数和浮点数、Transfer Learning in Natural Language Processing (NLP) 、面向语音识别的中文/英文发音辞典、Tokenizers：注重性能与多功能性的最先进分词器、CLUENER 细粒度命名实体识别 Fine Grained Named Entity Recognition、 基于BERT的中文命名实体识别、中文谣言数据库、NLP数据集/基准任务大列表、nlp相关的一些论文及代码, 包括主题模型、词向量(Word Embedding)、命名实体识别(NER)、文本分类(Text Classificatin)、文本生成(Text Generation)、文本相似性(Text Similarity)计算等，涉及到各种与nlp相关的算法，基于keras和tensorflow 、Python文本挖掘/NLP实战示例、 Blackstone：面向非结构化法律文本的spaCy pipeline和NLP模型通过同义词替换实现文本“变脸” 、中文 预训练 ELECTREA 模型: 基于对抗学习 pretrain Chinese Model 、albert-chinese-ner - 用预训练语言模型ALBERT做中文NER 、基于GPT2的特定主题文本生成/文本增广、开源预训练语言模型合集、多语言句向量包、编码、标记和实现：一种可控高效的文本生成方法、 英文脏话大列表 、attnvis：GPT2、BERT等transformer语言模型注意力交互可视化、CoVoST：Facebook发布的多语种语音-文本翻译语料库，包括11种语言(法语、德语、荷兰语、俄语、西班牙语、意大利语、土耳其语、波斯语、瑞典语、蒙古语和中文)的语音、文字转录及英文译文、Jiagu自然语言处理工具 - 以BiLSTM等模型为基础，提供知识图谱关系抽取 中文分词 词性标注 命名实体识别 情感分析 新词发现 关键词 文本摘要 文本聚类等功能、用unet实现对文档表格的自动检测，表格重建、NLP事件提取文献资源列表 、 金融领域自然语言处理研究资源大列表、CLUEDatasetSearch - 中英文NLP数据集：搜索所有中文NLP数据集，附常用英文NLP数据集 、medical_NER - 中文医学知识图谱命名实体识别 、(哈佛)讲因果推理的免费书、知识图谱相关学习资料/数据集/工具资源大列表、Forte：灵活强大的自然语言处理pipeline工具集 、Python字符串相似性算法库、PyLaia：面向手写文档分析的深度学习工具包、TextFooler：针对文本分类/推理的对抗文本生成模块、Haystack：灵活、强大的可扩展问答(QA)框架、中文关键短语抽取工具",
          "pallets<br />The Python micro framework for building web applications.",
          "bregman-arie<br />Linux, Jenkins, AWS, SRE, Prometheus, Docker, Python, Ansible, Git, Kubernetes, Terraform, OpenStack, SQL, NoSQL, Azure, GCP, DNS, Elastic, Network, Virtualization. DevOps Interview Questions",
          "josephmisiti<br />A curated list of awesome Machine Learning frameworks, libraries and software.",
          "binary-husky<br />为GPT/GLM等LLM大语言模型提供实用化交互接口，特别优化论文阅读/润色/写作体验，模块化设计，支持自定义快捷按钮&函数插件，支持Python和C++等项目剖析&自译解功能，PDF/LaTex论文翻译&总结功能，支持并行问询多种LLM模型，支持chatglm3等本地模型。接入通义千问, deepseekcoder, 讯飞星火, 文心一言, llama2, rwkv, claude2, moss等。",
          "3b1b<br />Animation engine for explanatory math videos",
          "python<br />The Python programming language",
          "ansible<br />Ansible is a radically simple IT automation platform that makes your applications and systems easier to deploy and maintain. Automate everything from code deployment to network configuration to cloud management, in a language that approaches plain English, using SSH, with no agents to install on remote systems. https://docs.ansible.com.",
          "d2l-ai<br />《动手学深度学习》：面向中文读者、能运行、可讨论。中英文版被70多个国家的500多所大学用于教学。",
          "keras-team<br />Deep Learning for humans",
          "swisskyrepo<br />A list of useful payloads and bypass for Web Application Security and Pentest/CTF",
          "xtekky<br />The official gpt4free repository | various collection of powerful language models"
         ],
         "legendgroup": "",
         "marker": {
          "color": "SteelBlue",
          "opacity": 0.6,
          "pattern": {
           "shape": ""
          }
         },
         "name": "",
         "offsetgroup": "",
         "orientation": "v",
         "showlegend": false,
         "textposition": "auto",
         "type": "bar",
         "x": [
          "<a href='https://github.com/public-apis/public-apis'>public-apis</a>",
          "<a href='https://github.com/donnemartin/system-design-primer'>system-design-primer</a>",
          "<a href='https://github.com/vinta/awesome-python'>awesome-python</a>",
          "<a href='https://github.com/TheAlgorithms/Python'>Python</a>",
          "<a href='https://github.com/Significant-Gravitas/AutoGPT'>AutoGPT</a>",
          "<a href='https://github.com/jackfrued/Python-100-Days'>Python-100-Days</a>",
          "<a href='https://github.com/AUTOMATIC1111/stable-diffusion-webui'>stable-diffusion-webui</a>",
          "<a href='https://github.com/huggingface/transformers'>transformers</a>",
          "<a href='https://github.com/ytdl-org/youtube-dl'>youtube-dl</a>",
          "<a href='https://github.com/521xueweihan/HelloGitHub'>HelloGitHub</a>",
          "<a href='https://github.com/nvbn/thefuck'>thefuck</a>",
          "<a href='https://github.com/yt-dlp/yt-dlp'>yt-dlp</a>",
          "<a href='https://github.com/pytorch/pytorch'>pytorch</a>",
          "<a href='https://github.com/django/django'>django</a>",
          "<a href='https://github.com/tensorflow/models'>models</a>",
          "<a href='https://github.com/fastapi/fastapi'>fastapi</a>",
          "<a href='https://github.com/home-assistant/core'>core</a>",
          "<a href='https://github.com/openai/whisper'>whisper</a>",
          "<a href='https://github.com/fighting41love/funNLP'>funNLP</a>",
          "<a href='https://github.com/pallets/flask'>flask</a>",
          "<a href='https://github.com/bregman-arie/devops-exercises'>devops-exercises</a>",
          "<a href='https://github.com/josephmisiti/awesome-machine-learning'>awesome-machine-learning</a>",
          "<a href='https://github.com/binary-husky/gpt_academic'>gpt_academic</a>",
          "<a href='https://github.com/3b1b/manim'>manim</a>",
          "<a href='https://github.com/python/cpython'>cpython</a>",
          "<a href='https://github.com/ansible/ansible'>ansible</a>",
          "<a href='https://github.com/d2l-ai/d2l-zh'>d2l-zh</a>",
          "<a href='https://github.com/keras-team/keras'>keras</a>",
          "<a href='https://github.com/swisskyrepo/PayloadsAllTheThings'>PayloadsAllTheThings</a>",
          "<a href='https://github.com/xtekky/gpt4free'>gpt4free</a>"
         ],
         "xaxis": "x",
         "y": [
          313793,
          271839,
          220804,
          190189,
          167275,
          155458,
          140795,
          133035,
          131717,
          91490,
          84964,
          84198,
          82737,
          79509,
          76997,
          76322,
          72244,
          68991,
          68089,
          67744,
          66184,
          65620,
          64569,
          63040,
          62790,
          62539,
          61883,
          61727,
          60479,
          60241
         ],
         "yaxis": "y"
        }
       ],
       "layout": {
        "barmode": "relative",
        "legend": {
         "tracegroupgap": 0
        },
        "template": {
         "data": {
          "bar": [
           {
            "error_x": {
             "color": "#2a3f5f"
            },
            "error_y": {
             "color": "#2a3f5f"
            },
            "marker": {
             "line": {
              "color": "#E5ECF6",
              "width": 0.5
             },
             "pattern": {
              "fillmode": "overlay",
              "size": 10,
              "solidity": 0.2
             }
            },
            "type": "bar"
           }
          ],
          "barpolar": [
           {
            "marker": {
             "line": {
              "color": "#E5ECF6",
              "width": 0.5
             },
             "pattern": {
              "fillmode": "overlay",
              "size": 10,
              "solidity": 0.2
             }
            },
            "type": "barpolar"
           }
          ],
          "carpet": [
           {
            "aaxis": {
             "endlinecolor": "#2a3f5f",
             "gridcolor": "white",
             "linecolor": "white",
             "minorgridcolor": "white",
             "startlinecolor": "#2a3f5f"
            },
            "baxis": {
             "endlinecolor": "#2a3f5f",
             "gridcolor": "white",
             "linecolor": "white",
             "minorgridcolor": "white",
             "startlinecolor": "#2a3f5f"
            },
            "type": "carpet"
           }
          ],
          "choropleth": [
           {
            "colorbar": {
             "outlinewidth": 0,
             "ticks": ""
            },
            "type": "choropleth"
           }
          ],
          "contour": [
           {
            "colorbar": {
             "outlinewidth": 0,
             "ticks": ""
            },
            "colorscale": [
             [
              0,
              "#0d0887"
             ],
             [
              0.1111111111111111,
              "#46039f"
             ],
             [
              0.2222222222222222,
              "#7201a8"
             ],
             [
              0.3333333333333333,
              "#9c179e"
             ],
             [
              0.4444444444444444,
              "#bd3786"
             ],
             [
              0.5555555555555556,
              "#d8576b"
             ],
             [
              0.6666666666666666,
              "#ed7953"
             ],
             [
              0.7777777777777778,
              "#fb9f3a"
             ],
             [
              0.8888888888888888,
              "#fdca26"
             ],
             [
              1,
              "#f0f921"
             ]
            ],
            "type": "contour"
           }
          ],
          "contourcarpet": [
           {
            "colorbar": {
             "outlinewidth": 0,
             "ticks": ""
            },
            "type": "contourcarpet"
           }
          ],
          "heatmap": [
           {
            "colorbar": {
             "outlinewidth": 0,
             "ticks": ""
            },
            "colorscale": [
             [
              0,
              "#0d0887"
             ],
             [
              0.1111111111111111,
              "#46039f"
             ],
             [
              0.2222222222222222,
              "#7201a8"
             ],
             [
              0.3333333333333333,
              "#9c179e"
             ],
             [
              0.4444444444444444,
              "#bd3786"
             ],
             [
              0.5555555555555556,
              "#d8576b"
             ],
             [
              0.6666666666666666,
              "#ed7953"
             ],
             [
              0.7777777777777778,
              "#fb9f3a"
             ],
             [
              0.8888888888888888,
              "#fdca26"
             ],
             [
              1,
              "#f0f921"
             ]
            ],
            "type": "heatmap"
           }
          ],
          "heatmapgl": [
           {
            "colorbar": {
             "outlinewidth": 0,
             "ticks": ""
            },
            "colorscale": [
             [
              0,
              "#0d0887"
             ],
             [
              0.1111111111111111,
              "#46039f"
             ],
             [
              0.2222222222222222,
              "#7201a8"
             ],
             [
              0.3333333333333333,
              "#9c179e"
             ],
             [
              0.4444444444444444,
              "#bd3786"
             ],
             [
              0.5555555555555556,
              "#d8576b"
             ],
             [
              0.6666666666666666,
              "#ed7953"
             ],
             [
              0.7777777777777778,
              "#fb9f3a"
             ],
             [
              0.8888888888888888,
              "#fdca26"
             ],
             [
              1,
              "#f0f921"
             ]
            ],
            "type": "heatmapgl"
           }
          ],
          "histogram": [
           {
            "marker": {
             "pattern": {
              "fillmode": "overlay",
              "size": 10,
              "solidity": 0.2
             }
            },
            "type": "histogram"
           }
          ],
          "histogram2d": [
           {
            "colorbar": {
             "outlinewidth": 0,
             "ticks": ""
            },
            "colorscale": [
             [
              0,
              "#0d0887"
             ],
             [
              0.1111111111111111,
              "#46039f"
             ],
             [
              0.2222222222222222,
              "#7201a8"
             ],
             [
              0.3333333333333333,
              "#9c179e"
             ],
             [
              0.4444444444444444,
              "#bd3786"
             ],
             [
              0.5555555555555556,
              "#d8576b"
             ],
             [
              0.6666666666666666,
              "#ed7953"
             ],
             [
              0.7777777777777778,
              "#fb9f3a"
             ],
             [
              0.8888888888888888,
              "#fdca26"
             ],
             [
              1,
              "#f0f921"
             ]
            ],
            "type": "histogram2d"
           }
          ],
          "histogram2dcontour": [
           {
            "colorbar": {
             "outlinewidth": 0,
             "ticks": ""
            },
            "colorscale": [
             [
              0,
              "#0d0887"
             ],
             [
              0.1111111111111111,
              "#46039f"
             ],
             [
              0.2222222222222222,
              "#7201a8"
             ],
             [
              0.3333333333333333,
              "#9c179e"
             ],
             [
              0.4444444444444444,
              "#bd3786"
             ],
             [
              0.5555555555555556,
              "#d8576b"
             ],
             [
              0.6666666666666666,
              "#ed7953"
             ],
             [
              0.7777777777777778,
              "#fb9f3a"
             ],
             [
              0.8888888888888888,
              "#fdca26"
             ],
             [
              1,
              "#f0f921"
             ]
            ],
            "type": "histogram2dcontour"
           }
          ],
          "mesh3d": [
           {
            "colorbar": {
             "outlinewidth": 0,
             "ticks": ""
            },
            "type": "mesh3d"
           }
          ],
          "parcoords": [
           {
            "line": {
             "colorbar": {
              "outlinewidth": 0,
              "ticks": ""
             }
            },
            "type": "parcoords"
           }
          ],
          "pie": [
           {
            "automargin": true,
            "type": "pie"
           }
          ],
          "scatter": [
           {
            "fillpattern": {
             "fillmode": "overlay",
             "size": 10,
             "solidity": 0.2
            },
            "type": "scatter"
           }
          ],
          "scatter3d": [
           {
            "line": {
             "colorbar": {
              "outlinewidth": 0,
              "ticks": ""
             }
            },
            "marker": {
             "colorbar": {
              "outlinewidth": 0,
              "ticks": ""
             }
            },
            "type": "scatter3d"
           }
          ],
          "scattercarpet": [
           {
            "marker": {
             "colorbar": {
              "outlinewidth": 0,
              "ticks": ""
             }
            },
            "type": "scattercarpet"
           }
          ],
          "scattergeo": [
           {
            "marker": {
             "colorbar": {
              "outlinewidth": 0,
              "ticks": ""
             }
            },
            "type": "scattergeo"
           }
          ],
          "scattergl": [
           {
            "marker": {
             "colorbar": {
              "outlinewidth": 0,
              "ticks": ""
             }
            },
            "type": "scattergl"
           }
          ],
          "scattermapbox": [
           {
            "marker": {
             "colorbar": {
              "outlinewidth": 0,
              "ticks": ""
             }
            },
            "type": "scattermapbox"
           }
          ],
          "scatterpolar": [
           {
            "marker": {
             "colorbar": {
              "outlinewidth": 0,
              "ticks": ""
             }
            },
            "type": "scatterpolar"
           }
          ],
          "scatterpolargl": [
           {
            "marker": {
             "colorbar": {
              "outlinewidth": 0,
              "ticks": ""
             }
            },
            "type": "scatterpolargl"
           }
          ],
          "scatterternary": [
           {
            "marker": {
             "colorbar": {
              "outlinewidth": 0,
              "ticks": ""
             }
            },
            "type": "scatterternary"
           }
          ],
          "surface": [
           {
            "colorbar": {
             "outlinewidth": 0,
             "ticks": ""
            },
            "colorscale": [
             [
              0,
              "#0d0887"
             ],
             [
              0.1111111111111111,
              "#46039f"
             ],
             [
              0.2222222222222222,
              "#7201a8"
             ],
             [
              0.3333333333333333,
              "#9c179e"
             ],
             [
              0.4444444444444444,
              "#bd3786"
             ],
             [
              0.5555555555555556,
              "#d8576b"
             ],
             [
              0.6666666666666666,
              "#ed7953"
             ],
             [
              0.7777777777777778,
              "#fb9f3a"
             ],
             [
              0.8888888888888888,
              "#fdca26"
             ],
             [
              1,
              "#f0f921"
             ]
            ],
            "type": "surface"
           }
          ],
          "table": [
           {
            "cells": {
             "fill": {
              "color": "#EBF0F8"
             },
             "line": {
              "color": "white"
             }
            },
            "header": {
             "fill": {
              "color": "#C8D4E3"
             },
             "line": {
              "color": "white"
             }
            },
            "type": "table"
           }
          ]
         },
         "layout": {
          "annotationdefaults": {
           "arrowcolor": "#2a3f5f",
           "arrowhead": 0,
           "arrowwidth": 1
          },
          "autotypenumbers": "strict",
          "coloraxis": {
           "colorbar": {
            "outlinewidth": 0,
            "ticks": ""
           }
          },
          "colorscale": {
           "diverging": [
            [
             0,
             "#8e0152"
            ],
            [
             0.1,
             "#c51b7d"
            ],
            [
             0.2,
             "#de77ae"
            ],
            [
             0.3,
             "#f1b6da"
            ],
            [
             0.4,
             "#fde0ef"
            ],
            [
             0.5,
             "#f7f7f7"
            ],
            [
             0.6,
             "#e6f5d0"
            ],
            [
             0.7,
             "#b8e186"
            ],
            [
             0.8,
             "#7fbc41"
            ],
            [
             0.9,
             "#4d9221"
            ],
            [
             1,
             "#276419"
            ]
           ],
           "sequential": [
            [
             0,
             "#0d0887"
            ],
            [
             0.1111111111111111,
             "#46039f"
            ],
            [
             0.2222222222222222,
             "#7201a8"
            ],
            [
             0.3333333333333333,
             "#9c179e"
            ],
            [
             0.4444444444444444,
             "#bd3786"
            ],
            [
             0.5555555555555556,
             "#d8576b"
            ],
            [
             0.6666666666666666,
             "#ed7953"
            ],
            [
             0.7777777777777778,
             "#fb9f3a"
            ],
            [
             0.8888888888888888,
             "#fdca26"
            ],
            [
             1,
             "#f0f921"
            ]
           ],
           "sequentialminus": [
            [
             0,
             "#0d0887"
            ],
            [
             0.1111111111111111,
             "#46039f"
            ],
            [
             0.2222222222222222,
             "#7201a8"
            ],
            [
             0.3333333333333333,
             "#9c179e"
            ],
            [
             0.4444444444444444,
             "#bd3786"
            ],
            [
             0.5555555555555556,
             "#d8576b"
            ],
            [
             0.6666666666666666,
             "#ed7953"
            ],
            [
             0.7777777777777778,
             "#fb9f3a"
            ],
            [
             0.8888888888888888,
             "#fdca26"
            ],
            [
             1,
             "#f0f921"
            ]
           ]
          },
          "colorway": [
           "#636efa",
           "#EF553B",
           "#00cc96",
           "#ab63fa",
           "#FFA15A",
           "#19d3f3",
           "#FF6692",
           "#B6E880",
           "#FF97FF",
           "#FECB52"
          ],
          "font": {
           "color": "#2a3f5f"
          },
          "geo": {
           "bgcolor": "white",
           "lakecolor": "white",
           "landcolor": "#E5ECF6",
           "showlakes": true,
           "showland": true,
           "subunitcolor": "white"
          },
          "hoverlabel": {
           "align": "left"
          },
          "hovermode": "closest",
          "mapbox": {
           "style": "light"
          },
          "paper_bgcolor": "white",
          "plot_bgcolor": "#E5ECF6",
          "polar": {
           "angularaxis": {
            "gridcolor": "white",
            "linecolor": "white",
            "ticks": ""
           },
           "bgcolor": "#E5ECF6",
           "radialaxis": {
            "gridcolor": "white",
            "linecolor": "white",
            "ticks": ""
           }
          },
          "scene": {
           "xaxis": {
            "backgroundcolor": "#E5ECF6",
            "gridcolor": "white",
            "gridwidth": 2,
            "linecolor": "white",
            "showbackground": true,
            "ticks": "",
            "zerolinecolor": "white"
           },
           "yaxis": {
            "backgroundcolor": "#E5ECF6",
            "gridcolor": "white",
            "gridwidth": 2,
            "linecolor": "white",
            "showbackground": true,
            "ticks": "",
            "zerolinecolor": "white"
           },
           "zaxis": {
            "backgroundcolor": "#E5ECF6",
            "gridcolor": "white",
            "gridwidth": 2,
            "linecolor": "white",
            "showbackground": true,
            "ticks": "",
            "zerolinecolor": "white"
           }
          },
          "shapedefaults": {
           "line": {
            "color": "#2a3f5f"
           }
          },
          "ternary": {
           "aaxis": {
            "gridcolor": "white",
            "linecolor": "white",
            "ticks": ""
           },
           "baxis": {
            "gridcolor": "white",
            "linecolor": "white",
            "ticks": ""
           },
           "bgcolor": "#E5ECF6",
           "caxis": {
            "gridcolor": "white",
            "linecolor": "white",
            "ticks": ""
           }
          },
          "title": {
           "x": 0.05
          },
          "xaxis": {
           "automargin": true,
           "gridcolor": "white",
           "linecolor": "white",
           "ticks": "",
           "title": {
            "standoff": 15
           },
           "zerolinecolor": "white",
           "zerolinewidth": 2
          },
          "yaxis": {
           "automargin": true,
           "gridcolor": "white",
           "linecolor": "white",
           "ticks": "",
           "title": {
            "standoff": 15
           },
           "zerolinecolor": "white",
           "zerolinewidth": 2
          }
         }
        },
        "title": {
         "font": {
          "size": 20
         },
         "text": "GitHub의 가장 인기있는 파이썬 프로젝트"
        },
        "xaxis": {
         "anchor": "y",
         "domain": [
          0,
          1
         ],
         "title": {
          "font": {
           "size": 20
          },
          "text": "저장소"
         }
        },
        "yaxis": {
         "anchor": "x",
         "domain": [
          0,
          1
         ],
         "title": {
          "font": {
           "size": 20
          },
          "text": "별점"
         }
        }
       }
      }
     },
     "metadata": {},
     "output_type": "display_data"
    }
   ],
   "source": [
    "import requests\n",
    "import plotly.express as px\n",
    "\n",
    "\n",
    "# Make an API call and check the response.\n",
    "url = \"https://api.github.com/search/repositories\"\n",
    "url += \"?q=language:python+sort:stars+stars:>10000\"\n",
    "\n",
    "headers = {\"Accept\": \"application/vnd.github.v3+json\"}\n",
    "r = requests.get(url, headers=headers)\n",
    "print(f\"Status code: {r.status_code}\")\n",
    "\n",
    "# Process overall results.\n",
    "response_dict = r.json()\n",
    "print(f\"Complete results: {not response_dict['incomplete_results']}\")\n",
    "\n",
    "# Process repository information.\n",
    "repo_dicts = response_dict['items']\n",
    "repo_links, stars, hover_texts = [], [], []\n",
    "for repo_dict in repo_dicts:\n",
    "    # Turn repo names into active links.\n",
    "    repo_name = repo_dict['name']\n",
    "    repo_url = repo_dict['html_url']\n",
    "    repo_link = f\"<a href='{repo_url}'>{repo_name}</a>\"\n",
    "    repo_links.append(repo_link)\n",
    "\n",
    "    stars.append(repo_dict['stargazers_count'])\n",
    "\n",
    "    # Build hover texts.\n",
    "    owner = repo_dict['owner']['login']\n",
    "    description = repo_dict['description']\n",
    "    hover_text = f\"{owner}<br />{description}\"\n",
    "    hover_texts.append(hover_text)\n",
    "\n",
    "# Make visualization.\n",
    "title = \"GitHub의 가장 인기있는 파이썬 프로젝트\"\n",
    "labels = {'x': '저장소', 'y': '별점'}\n",
    "fig = px.bar(x=repo_links, y=stars, title=title, labels=labels,\n",
    "        hover_name=hover_texts)\n",
    "\n",
    "fig.update_layout(title_font_size=20, xaxis_title_font_size=20,\n",
    "        yaxis_title_font_size=20)\n",
    "\n",
    "fig.update_traces(marker_color='SteelBlue', marker_opacity=0.6)\n",
    "\n",
    "fig.show()"
   ]
  },
  {
   "cell_type": "markdown",
   "metadata": {},
   "source": [
    "https://plotly.com/python/plotly-express/\n",
    "그래프 라이브러리 유형을 볼 필요"
   ]
  },
  {
   "cell_type": "code",
   "execution_count": 4,
   "metadata": {},
   "outputs": [
    {
     "name": "stdout",
     "output_type": "stream",
     "text": [
      "Status code: 200\n",
      "{\n",
      "    \"by\": \"sohkamyung\",\n",
      "    \"descendants\": 307,\n",
      "    \"id\": 31353677,\n",
      "    \"kids\": [\n",
      "        31354987,\n",
      "        31354235,\n",
      "        31354040,\n",
      "        31358602,\n",
      "        31354201,\n",
      "        31354991,\n",
      "        31354315,\n",
      "        31353775,\n",
      "        31353925,\n",
      "        31354169,\n",
      "        31354273,\n",
      "        31354437,\n",
      "        31356902,\n",
      "        31358694,\n",
      "        31363418,\n",
      "        31353862,\n",
      "        31357186,\n",
      "        31356379,\n",
      "        31356826,\n",
      "        31355085,\n",
      "        31369435,\n",
      "        31357936,\n",
      "        31354142,\n",
      "        31354213,\n",
      "        31356311,\n",
      "        31357865,\n",
      "        31353929,\n",
      "        31364954,\n",
      "        31354621,\n",
      "        31356002,\n",
      "        31356407,\n",
      "        31355491,\n",
      "        31359235,\n",
      "        31356053,\n",
      "        31354347,\n",
      "        31355326,\n",
      "        31354703,\n",
      "        31353802\n",
      "    ],\n",
      "    \"score\": 786,\n",
      "    \"time\": 1652361401,\n",
      "    \"title\": \"Astronomers reveal first image of the black hole at the heart of our galaxy\",\n",
      "    \"type\": \"story\",\n",
      "    \"url\": \"https://public.nrao.edu/news/astronomers-reveal-first-image-of-the-black-hole-at-the-heart-of-our-galaxy/\"\n",
      "}\n"
     ]
    }
   ],
   "source": [
    "import requests\n",
    "import json\n",
    "\n",
    "\n",
    "# Make an API call, and store the response.\n",
    "url = \"https://hacker-news.firebaseio.com/v0/item/31353677.json\"\n",
    "r = requests.get(url)\n",
    "print(f\"Status code: {r.status_code}\")\n",
    "\n",
    "# Explore the structure of the data.\n",
    "response_dict = r.json()\n",
    "response_string = json.dumps(response_dict, indent=4)\n",
    "print(response_string)"
   ]
  },
  {
   "cell_type": "code",
   "execution_count": 5,
   "metadata": {},
   "outputs": [
    {
     "name": "stdout",
     "output_type": "stream",
     "text": [
      "Status code: 200\n",
      "\n",
      "Title: Google must open Android for third-party stores, rules Epic judge\n",
      "Discussion link: https://news.ycombinator.com/item?id=41769657\n",
      "Comments: 337\n",
      "\n",
      "Title: Is the attack helicopter dead?\n",
      "Discussion link: https://news.ycombinator.com/item?id=41769971\n",
      "Comments: 297\n",
      "\n",
      "Title: The Rise of Worse Is Better (1991)\n",
      "Discussion link: https://news.ycombinator.com/item?id=41766293\n",
      "Comments: 219\n",
      "\n",
      "Title: An e-waste dumping ground\n",
      "Discussion link: https://news.ycombinator.com/item?id=41765334\n",
      "Comments: 155\n",
      "\n",
      "Title: US antitrust case against Amazon to move forward\n",
      "Discussion link: https://news.ycombinator.com/item?id=41768658\n",
      "Comments: 152\n",
      "\n",
      "Title: Can you get root with only a cigarette lighter?\n",
      "Discussion link: https://news.ycombinator.com/item?id=41765716\n",
      "Comments: 118\n",
      "\n",
      "Title: Fukushima Reactor: TEPCO robot aims to extract nuclear fuel\n",
      "Discussion link: https://news.ycombinator.com/item?id=41765580\n",
      "Comments: 102\n",
      "\n",
      "Title: Homemade AI Drone Software Finds People When Search and Rescue Teams Can't\n",
      "Discussion link: https://news.ycombinator.com/item?id=41764486\n",
      "Comments: 97\n",
      "\n",
      "Title: The Naming of America (2023)\n",
      "Discussion link: https://news.ycombinator.com/item?id=41758856\n",
      "Comments: 69\n",
      "\n",
      "Title: Jazz – Apps with Distributed State\n",
      "Discussion link: https://news.ycombinator.com/item?id=41748912\n",
      "Comments: 62\n",
      "\n",
      "Title: Virtualizing iOS on Apple Silicon\n",
      "Discussion link: https://news.ycombinator.com/item?id=41756219\n",
      "Comments: 51\n",
      "\n",
      "Title: Show HN: Compiling C in the browser using WebAssembly\n",
      "Discussion link: https://news.ycombinator.com/item?id=41767644\n",
      "Comments: 48\n",
      "\n",
      "Title: Rust is rolling off the Volvo assembly line\n",
      "Discussion link: https://news.ycombinator.com/item?id=41771272\n",
      "Comments: 38\n",
      "\n",
      "Title: Optimizing Postgres table layout for maximum efficiency\n",
      "Discussion link: https://news.ycombinator.com/item?id=41757940\n",
      "Comments: 38\n",
      "\n",
      "Title: Good Retry, Bad Retry: An Incident Story\n",
      "Discussion link: https://news.ycombinator.com/item?id=41755805\n",
      "Comments: 31\n",
      "\n",
      "Title: Wigle.net: All the networks, found by everyone\n",
      "Discussion link: https://news.ycombinator.com/item?id=41769648\n",
      "Comments: 28\n",
      "\n",
      "Title: Show HN: Visualization of website accessibility tree\n",
      "Discussion link: https://news.ycombinator.com/item?id=41764635\n",
      "Comments: 22\n",
      "\n",
      "Title: An illustrated proof of the CAP theorem\n",
      "Discussion link: https://news.ycombinator.com/item?id=41772624\n",
      "Comments: 21\n",
      "\n",
      "Title: The magic (image resampling) kernel\n",
      "Discussion link: https://news.ycombinator.com/item?id=41756205\n",
      "Comments: 21\n",
      "\n",
      "Title: Longwriter – Increase llama3.1 output to 10k words\n",
      "Discussion link: https://news.ycombinator.com/item?id=41766144\n",
      "Comments: 19\n",
      "\n",
      "Title: Gunter's Space Page\n",
      "Discussion link: https://news.ycombinator.com/item?id=41769932\n",
      "Comments: 13\n",
      "\n",
      "Title: The Wobbly Table Theorem\n",
      "Discussion link: https://news.ycombinator.com/item?id=41755719\n",
      "Comments: 9\n",
      "\n",
      "Title: The survival skills of Helena Valero\n",
      "Discussion link: https://news.ycombinator.com/item?id=41758857\n",
      "Comments: 8\n",
      "\n",
      "Title: FTX creditors will make money on bankruptcy: $1.19 for every dollar\n",
      "Discussion link: https://news.ycombinator.com/item?id=41773212\n",
      "Comments: 5\n",
      "\n",
      "Title: Ask HN: Can you recommend a PCB designer?\n",
      "Discussion link: https://news.ycombinator.com/item?id=41749651\n",
      "Comments: 5\n",
      "\n",
      "Title: Launching on Product Hunt\n",
      "Discussion link: https://news.ycombinator.com/item?id=41773355\n",
      "Comments: 3\n",
      "\n",
      "Title: Video Surveillance with YOLO+llava\n",
      "Discussion link: https://news.ycombinator.com/item?id=41772551\n",
      "Comments: 2\n",
      "\n",
      "Title: Programming and poetry (not Python's tool)\n",
      "Discussion link: https://news.ycombinator.com/item?id=41756134\n",
      "Comments: 1\n",
      "\n",
      "Title: EuroBSDcon 2024: Some notes after the conference\n",
      "Discussion link: https://news.ycombinator.com/item?id=41769346\n",
      "Comments: 1\n",
      "\n",
      "Title: Substack (YC W18) Is Hiring Machine Learning Engineers\n",
      "Discussion link: https://news.ycombinator.com/item?id=41768143\n",
      "Comments: 0\n"
     ]
    }
   ],
   "source": [
    "from operator import itemgetter\n",
    "\n",
    "import requests\n",
    "\n",
    "\n",
    "# Make an API call and check the response.\n",
    "url = 'https://hacker-news.firebaseio.com/v0/topstories.json'\n",
    "r = requests.get(url)\n",
    "print(f\"Status code: {r.status_code}\")\n",
    "\n",
    "# Process information about each submission.\n",
    "submission_ids = r.json()\n",
    "\n",
    "submission_dicts = []\n",
    "for submission_id in submission_ids[:30]:\n",
    "    # Make a new API call for each submission.\n",
    "    url = f\"https://hacker-news.firebaseio.com/v0/item/{submission_id}.json\"\n",
    "    r = requests.get(url)\n",
    "    #print(f\"id: {submission_id}\\tstatus: {r.status_code}\")\n",
    "    response_dict = r.json()\n",
    "    \n",
    "    # Build a dictionary for each article.\n",
    "    submission_dict = {\n",
    "        #'title': response_dict['title'],\n",
    "        'title': response_dict.get('title', 'No title'),\n",
    "        'hn_link': f\"https://news.ycombinator.com/item?id={submission_id}\",\n",
    "        #'comments': response_dict['descendants'],\n",
    "        'comments': response_dict.get('descendants',0),\n",
    "    }\n",
    "    submission_dicts.append(submission_dict)\n",
    "\n",
    "submission_dicts = sorted(submission_dicts, key=itemgetter('comments'),\n",
    "                            reverse=True)\n",
    "\n",
    "for submission_dict in submission_dicts:\n",
    "    print(f\"\\nTitle: {submission_dict['title']}\")\n",
    "    print(f\"Discussion link: {submission_dict['hn_link']}\")\n",
    "    print(f\"Comments: {submission_dict['comments']}\")"
   ]
  },
  {
   "cell_type": "markdown",
   "metadata": {},
   "source": [
    "web scraping - web crawling"
   ]
  },
  {
   "cell_type": "code",
   "execution_count": 6,
   "metadata": {},
   "outputs": [
    {
     "name": "stdout",
     "output_type": "stream",
     "text": [
      "Requirement already satisfied: bs4 in c:\\users\\user\\appdata\\local\\programs\\python\\python39\\lib\\site-packages (0.0.2)\n",
      "Requirement already satisfied: beautifulsoup4 in c:\\users\\user\\appdata\\local\\programs\\python\\python39\\lib\\site-packages (from bs4) (4.12.3)\n",
      "Requirement already satisfied: soupsieve>1.2 in c:\\users\\user\\appdata\\local\\programs\\python\\python39\\lib\\site-packages (from beautifulsoup4->bs4) (2.6)\n",
      "Note: you may need to restart the kernel to use updated packages.\n"
     ]
    }
   ],
   "source": [
    "%pip install bs4"
   ]
  },
  {
   "cell_type": "code",
   "execution_count": 10,
   "metadata": {},
   "outputs": [
    {
     "name": "stdout",
     "output_type": "stream",
     "text": [
      "<!DOCTYPE html>\n",
      "<html>\n",
      " <head>\n",
      "  <title>\n",
      "   Example Domain\n",
      "  </title>\n",
      "  <meta charset=\"utf-8\"/>\n",
      "  <meta content=\"text/html; charset=utf-8\" http-equiv=\"Content-type\"/>\n",
      "  <meta content=\"width=device-width, initial-scale=1\" name=\"viewport\"/>\n",
      "  <style type=\"text/css\">\n",
      "   body {\n",
      "        background-color: #f0f0f2;\n",
      "        margin: 0;\n",
      "        padding: 0;\n",
      "        font-family: -apple-system, system-ui, BlinkMacSystemFont, \"Segoe UI\", \"Open Sans\", \"Helvetica Neue\", Helvetica, Arial, sans-serif;\n",
      "        \n",
      "    }\n",
      "    div {\n",
      "        width: 600px;\n",
      "        margin: 5em auto;\n",
      "        padding: 2em;\n",
      "        background-color: #fdfdff;\n",
      "        border-radius: 0.5em;\n",
      "        box-shadow: 2px 3px 7px 2px rgba(0,0,0,0.02);\n",
      "    }\n",
      "    a:link, a:visited {\n",
      "        color: #38488f;\n",
      "        text-decoration: none;\n",
      "    }\n",
      "    @media (max-width: 700px) {\n",
      "        div {\n",
      "            margin: 0 auto;\n",
      "            width: auto;\n",
      "        }\n",
      "    }\n",
      "  </style>\n",
      " </head>\n",
      " <body>\n",
      "  <div>\n",
      "   <h1>\n",
      "    Example Domain\n",
      "   </h1>\n",
      "   <p>\n",
      "    This domain is for use in illustrative examples in documents. You may use this\n",
      "    domain in literature without prior coordination or asking for permission.\n",
      "   </p>\n",
      "   <p>\n",
      "    <a href=\"https://www.iana.org/domains/example\">\n",
      "     More information...\n",
      "    </a>\n",
      "   </p>\n",
      "  </div>\n",
      " </body>\n",
      "</html>\n",
      "\n",
      "제목 <title>Example Domain</title>\n",
      "헤드 <head>\n",
      "<title>Example Domain</title>\n",
      "<meta charset=\"utf-8\"/>\n",
      "<meta content=\"text/html; charset=utf-8\" http-equiv=\"Content-type\"/>\n",
      "<meta content=\"width=device-width, initial-scale=1\" name=\"viewport\"/>\n",
      "<style type=\"text/css\">\n",
      "    body {\n",
      "        background-color: #f0f0f2;\n",
      "        margin: 0;\n",
      "        padding: 0;\n",
      "        font-family: -apple-system, system-ui, BlinkMacSystemFont, \"Segoe UI\", \"Open Sans\", \"Helvetica Neue\", Helvetica, Arial, sans-serif;\n",
      "        \n",
      "    }\n",
      "    div {\n",
      "        width: 600px;\n",
      "        margin: 5em auto;\n",
      "        padding: 2em;\n",
      "        background-color: #fdfdff;\n",
      "        border-radius: 0.5em;\n",
      "        box-shadow: 2px 3px 7px 2px rgba(0,0,0,0.02);\n",
      "    }\n",
      "    a:link, a:visited {\n",
      "        color: #38488f;\n",
      "        text-decoration: none;\n",
      "    }\n",
      "    @media (max-width: 700px) {\n",
      "        div {\n",
      "            margin: 0 auto;\n",
      "            width: auto;\n",
      "        }\n",
      "    }\n",
      "    </style>\n",
      "</head>\n",
      "바디 <body>\n",
      "<div>\n",
      "<h1>Example Domain</h1>\n",
      "<p>This domain is for use in illustrative examples in documents. You may use this\n",
      "    domain in literature without prior coordination or asking for permission.</p>\n",
      "<p><a href=\"https://www.iana.org/domains/example\">More information...</a></p>\n",
      "</div>\n",
      "</body>\n",
      "h1\n",
      "Example Domain\n"
     ]
    }
   ],
   "source": [
    "import requests\n",
    "from bs4 import BeautifulSoup\n",
    "\n",
    "# www.example.com 사이트를 요청한 후 응답 받기\n",
    "res = requests.get(\"https://www.example.com\")\n",
    "\n",
    "# BeautifulSoup 객체를 생성\n",
    "# 첫번째 인자로는 response의 body를 텍스트로 전달\n",
    "# 두번째 인자로는 \"html\"로 분석한다는 것을 명시\n",
    "soup = BeautifulSoup(res.text, \"html.parser\")\n",
    "\n",
    "# 객체 soup의 .prettify()를 활용하면 분석된 HTML을 보기 편하게 반환\n",
    "print(soup.prettify())\n",
    "\n",
    "# soup 객체를 통해서 HTML의 특정 요소를 가지고 올 수 있음\n",
    "print('제목',soup.title)\n",
    "print('헤드',soup.head)\n",
    "print('바디',soup.body)\n",
    "\n",
    "# <h1> 태그로 감싸진 요소 하나 찾기\n",
    "h1 = soup.find(\"h1\")\n",
    "# <h1> 태그로 감싸진 요소들 찾기\n",
    "h1_ = soup.find_all(\"h1\")\n",
    "\n",
    "print(h1.name) # 태그 이름 가져오기\n",
    "print(h1.text) # 태그 내용 가져오기"
   ]
  },
  {
   "cell_type": "code",
   "execution_count": 7,
   "metadata": {},
   "outputs": [
    {
     "name": "stdout",
     "output_type": "stream",
     "text": [
      "Collecting geopandas\n",
      "  Downloading geopandas-1.0.1-py3-none-any.whl.metadata (2.2 kB)\n",
      "Requirement already satisfied: requests in c:\\users\\user\\appdata\\local\\programs\\python\\python39\\lib\\site-packages (2.32.3)\n",
      "Requirement already satisfied: matplotlib in c:\\users\\user\\appdata\\local\\programs\\python\\python39\\lib\\site-packages (3.9.2)\n",
      "Requirement already satisfied: numpy>=1.22 in c:\\users\\user\\appdata\\local\\programs\\python\\python39\\lib\\site-packages (from geopandas) (1.26.4)\n",
      "Collecting pyogrio>=0.7.2 (from geopandas)\n",
      "  Downloading pyogrio-0.10.0-cp39-cp39-win_amd64.whl.metadata (5.6 kB)\n",
      "Requirement already satisfied: packaging in c:\\users\\user\\appdata\\roaming\\python\\python39\\site-packages (from geopandas) (24.1)\n",
      "Requirement already satisfied: pandas>=1.4.0 in c:\\users\\user\\appdata\\local\\programs\\python\\python39\\lib\\site-packages (from geopandas) (2.2.3)\n",
      "Collecting pyproj>=3.3.0 (from geopandas)\n",
      "  Downloading pyproj-3.6.1-cp39-cp39-win_amd64.whl.metadata (31 kB)\n",
      "Collecting shapely>=2.0.0 (from geopandas)\n",
      "  Downloading shapely-2.0.6-cp39-cp39-win_amd64.whl.metadata (7.2 kB)\n",
      "Requirement already satisfied: charset-normalizer<4,>=2 in c:\\users\\user\\appdata\\local\\programs\\python\\python39\\lib\\site-packages (from requests) (3.3.2)\n",
      "Requirement already satisfied: idna<4,>=2.5 in c:\\users\\user\\appdata\\local\\programs\\python\\python39\\lib\\site-packages (from requests) (3.10)\n",
      "Requirement already satisfied: urllib3<3,>=1.21.1 in c:\\users\\user\\appdata\\local\\programs\\python\\python39\\lib\\site-packages (from requests) (2.2.3)\n",
      "Requirement already satisfied: certifi>=2017.4.17 in c:\\users\\user\\appdata\\local\\programs\\python\\python39\\lib\\site-packages (from requests) (2024.8.30)\n",
      "Requirement already satisfied: contourpy>=1.0.1 in c:\\users\\user\\appdata\\local\\programs\\python\\python39\\lib\\site-packages (from matplotlib) (1.3.0)\n",
      "Requirement already satisfied: cycler>=0.10 in c:\\users\\user\\appdata\\local\\programs\\python\\python39\\lib\\site-packages (from matplotlib) (0.12.1)\n",
      "Requirement already satisfied: fonttools>=4.22.0 in c:\\users\\user\\appdata\\local\\programs\\python\\python39\\lib\\site-packages (from matplotlib) (4.54.1)\n",
      "Requirement already satisfied: kiwisolver>=1.3.1 in c:\\users\\user\\appdata\\local\\programs\\python\\python39\\lib\\site-packages (from matplotlib) (1.4.7)\n",
      "Requirement already satisfied: pillow>=8 in c:\\users\\user\\appdata\\local\\programs\\python\\python39\\lib\\site-packages (from matplotlib) (10.4.0)\n",
      "Requirement already satisfied: pyparsing>=2.3.1 in c:\\users\\user\\appdata\\local\\programs\\python\\python39\\lib\\site-packages (from matplotlib) (3.1.4)\n",
      "Requirement already satisfied: python-dateutil>=2.7 in c:\\users\\user\\appdata\\roaming\\python\\python39\\site-packages (from matplotlib) (2.9.0.post0)\n",
      "Requirement already satisfied: importlib-resources>=3.2.0 in c:\\users\\user\\appdata\\local\\programs\\python\\python39\\lib\\site-packages (from matplotlib) (6.4.5)\n",
      "Requirement already satisfied: zipp>=3.1.0 in c:\\users\\user\\appdata\\roaming\\python\\python39\\site-packages (from importlib-resources>=3.2.0->matplotlib) (3.20.2)\n",
      "Requirement already satisfied: pytz>=2020.1 in c:\\users\\user\\appdata\\local\\programs\\python\\python39\\lib\\site-packages (from pandas>=1.4.0->geopandas) (2024.2)\n",
      "Requirement already satisfied: tzdata>=2022.7 in c:\\users\\user\\appdata\\local\\programs\\python\\python39\\lib\\site-packages (from pandas>=1.4.0->geopandas) (2024.2)\n",
      "Requirement already satisfied: six>=1.5 in c:\\users\\user\\appdata\\roaming\\python\\python39\\site-packages (from python-dateutil>=2.7->matplotlib) (1.16.0)\n",
      "Downloading geopandas-1.0.1-py3-none-any.whl (323 kB)\n",
      "Downloading pyogrio-0.10.0-cp39-cp39-win_amd64.whl (16.2 MB)\n",
      "   ---------------------------------------- 0.0/16.2 MB ? eta -:--:--\n",
      "   ------- -------------------------------- 3.1/16.2 MB 15.3 MB/s eta 0:00:01\n",
      "   ----------------- ---------------------- 7.1/16.2 MB 16.8 MB/s eta 0:00:01\n",
      "   ---------------------------------------- 16.2/16.2 MB 27.5 MB/s eta 0:00:00\n",
      "Downloading pyproj-3.6.1-cp39-cp39-win_amd64.whl (6.1 MB)\n",
      "   ---------------------------------------- 0.0/6.1 MB ? eta -:--:--\n",
      "   ---------------------------------------- 6.1/6.1 MB 62.0 MB/s eta 0:00:00\n",
      "Downloading shapely-2.0.6-cp39-cp39-win_amd64.whl (1.4 MB)\n",
      "   ---------------------------------------- 0.0/1.4 MB ? eta -:--:--\n",
      "   ---------------------------------------- 1.4/1.4 MB 73.8 MB/s eta 0:00:00\n",
      "Installing collected packages: shapely, pyproj, pyogrio, geopandas\n",
      "Successfully installed geopandas-1.0.1 pyogrio-0.10.0 pyproj-3.6.1 shapely-2.0.6\n",
      "Note: you may need to restart the kernel to use updated packages.\n"
     ]
    }
   ],
   "source": [
    "%pip install geopandas requests matplotlib\n"
   ]
  },
  {
   "cell_type": "markdown",
   "metadata": {},
   "source": [
    "1. naturalearth_lowres 데이터 다운로드\n",
    "Natural Earth 사이트로 이동합니다.\n",
    "\"Admin 0 - Countries\" 데이터셋에서 \"Download\" 버튼을 클릭하여 데이터를 다운로드.\n",
    "압축 파일을 다운로드한 후 이를 적절한 폴더에 압축을 푼다. 예를 들어, C:\\path\\to\\your\\folder 경로에 압축을 해제했다고 가정"
   ]
  },
  {
   "cell_type": "code",
   "execution_count": 9,
   "metadata": {},
   "outputs": [
    {
     "name": "stdout",
     "output_type": "stream",
     "text": [
      "Index(['featurecla', 'scalerank', 'LABELRANK', 'SOVEREIGNT', 'SOV_A3',\n",
      "       'ADM0_DIF', 'LEVEL', 'TYPE', 'TLC', 'ADMIN',\n",
      "       ...\n",
      "       'FCLASS_TR', 'FCLASS_ID', 'FCLASS_PL', 'FCLASS_GR', 'FCLASS_IT',\n",
      "       'FCLASS_NL', 'FCLASS_SE', 'FCLASS_BD', 'FCLASS_UA', 'geometry'],\n",
      "      dtype='object', length=169)\n"
     ]
    },
    {
     "data": {
      "image/png": "[encoded data removed]",
      "text/plain": [
       "<Figure size 1000x800 with 2 Axes>"
      ]
     },
     "metadata": {},
     "output_type": "display_data"
    }
   ],
   "source": [
    "import requests\n",
    "import geopandas as gpd\n",
    "import matplotlib.pyplot as plt\n",
    "from datetime import datetime, timedelta\n",
    "import matplotlib.font_manager as fm\n",
    "\n",
    "font_path = 'C:/Windows/Fonts/malgun.ttf'  # Windows에서 '맑은 고딕' 폰트 경로\n",
    "font_prop = fm.FontProperties(fname=font_path)\n",
    "\n",
    "# matplotlib에서 폰트 설정\n",
    "plt.rc('font', family=font_prop.get_name())\n",
    "# 1. USGS API로 지진 데이터를 가져옴\n",
    "base_url = \"https://earthquake.usgs.gov/fdsnws/event/1/query\"\n",
    "start_date = (datetime.now() - timedelta(days=3*365)).strftime(\"%Y-%m-%d\")\n",
    "end_date = datetime.now().strftime(\"%Y-%m-%d\")\n",
    "\n",
    "# 한국, 일본, 중국 범위를 커버하는 지리적 경계 설정 (위도, 경도)\n",
    "query_params = {\n",
    "    \"format\": \"geojson\",  # GeoJSON 형식으로 결과 반환\n",
    "    \"starttime\": start_date,\n",
    "    \"endtime\": end_date,\n",
    "    \"minlatitude\": 20,   # 남쪽 범위 (한국, 일본, 중국 포함)\n",
    "    \"maxlatitude\": 50,   # 북쪽 범위\n",
    "    \"minlongitude\": 100,  # 서쪽 범위\n",
    "    \"maxlongitude\": 150,  # 동쪽 범위\n",
    "    \"minmagnitude\": 6.0,  # 최소 강도 설정 (6.0 이상 지진)\n",
    "}\n",
    "\n",
    "# USGS API 호출\n",
    "response = requests.get(base_url, params=query_params)\n",
    "\n",
    "# 2. 데이터가 정상적으로 로드되었는지 확인\n",
    "if response.status_code == 200:\n",
    "    data = response.json()\n",
    "    earthquakes = data['features']  # 지진 목록\n",
    "\n",
    "    # 3. 발생한 지진의 좌표, 강도, 발생일 정보를 저장할 리스트\n",
    "    lats = []\n",
    "    lons = []\n",
    "    magnitudes = []\n",
    "\n",
    "    # 4. 각 지진의 좌표와 강도 추출\n",
    "    for eq in earthquakes:\n",
    "        coords = eq['geometry']['coordinates']\n",
    "        magnitude = eq['properties']['mag']\n",
    "        \n",
    "        # 좌표와 강도 추출\n",
    "        lons.append(coords[0])  # 경도\n",
    "        lats.append(coords[1])  # 위도\n",
    "        magnitudes.append(magnitude)\n",
    "\n",
    "    # 5. 지도 시각화를 위한 GeoPandas 세계 지도 불러오기\n",
    "    file_path = r'C:\\path\\to\\your\\folder\\ne_110m_admin_0_countries\\ne_110m_admin_0_countries.shp'  # Update the path\n",
    "\n",
    "    # 6. Shapefile 불러오기\n",
    "    world = gpd.read_file(file_path)\n",
    "\n",
    "    # 7. 중국, 일본, 한국 지역 필터링\n",
    "    # Check the column names to ensure they are correct\n",
    "    print(world.columns)  # Output column names to ensure correct filtering\n",
    "\n",
    "    # Filter for China, Japan, and South Korea\n",
    "    filtered_world = world[world['NAME'].isin([\"China\", \"Japan\", \"South Korea\", \"North Korea\"])]\n",
    "\n",
    "    # 8. 지도 시각화\n",
    "    ax = filtered_world.plot(color='lightgray', edgecolor='black', figsize=(10, 8))\n",
    "\n",
    "    # 9. 지진 데이터 시각화 (강도를 반영한 점 크기 설정)\n",
    "    scatter = ax.scatter(\n",
    "        lons, lats, c=magnitudes, cmap='viridis', s=[mag * 20 for mag in magnitudes], alpha=0.6, edgecolors=\"black\"\n",
    "    )\n",
    "\n",
    "    # 10. 색상바 추가 (지진 강도에 따른 색상)\n",
    "    cbar = plt.colorbar(scatter, ax=ax)\n",
    "    cbar.set_label('지진 강도')\n",
    "\n",
    "    # 11. 그래프 타이틀 및 설정\n",
    "    plt.title(\"한중일 지진 (지난 3년)\")\n",
    "    plt.xlabel(\"경도\")\n",
    "    plt.ylabel(\"위도\")\n",
    "\n",
    "    # 12. 그래프 출력\n",
    "    plt.show()\n",
    "    \n",
    "else:\n",
    "    print(f\"Failed to retrieve data. Status code: {response.status_code}\")\n"
   ]
  }
 ],
 "metadata": {
  "kernelspec": {
   "display_name": "Python 3",
   "language": "python",
   "name": "python3"
  },
  "language_info": {
   "codemirror_mode": {
    "name": "ipython",
    "version": 3
   },
   "file_extension": ".py",
   "mimetype": "text/x-python",
   "name": "python",
   "nbconvert_exporter": "python",
   "pygments_lexer": "ipython3",
   "version": "3.9.13"
  }
 },
 "nbformat": 4,
 "nbformat_minor": 2
}
